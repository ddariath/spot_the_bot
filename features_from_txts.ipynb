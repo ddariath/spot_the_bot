{
  "cells": [
    {
      "cell_type": "markdown",
      "id": "ea32e613-0ef9-4c87-9fac-a3edf10e7a46",
      "metadata": {
        "id": "ea32e613-0ef9-4c87-9fac-a3edf10e7a46"
      },
      "source": [
        "Pipeline to get features on single text"
      ]
    },
    {
      "cell_type": "code",
      "execution_count": 1,
      "id": "fd3a1002-593d-4515-ab7e-69ef5a37cbfe",
      "metadata": {
        "id": "fd3a1002-593d-4515-ab7e-69ef5a37cbfe"
      },
      "outputs": [],
      "source": [
        "import numpy as np\n",
        "from tqdm import tqdm, trange\n",
        "import glob"
      ]
    },
    {
      "cell_type": "markdown",
      "id": "_kEytOjcyKUz",
      "metadata": {
        "id": "_kEytOjcyKUz"
      },
      "source": [
        "Для расчета дырок\n",
        "1. файл filtered_by_*\n",
        "2. файлы ru_word_holes_* в папке holes (!поменять индексы срезов в функции get_holes_per_chunk в зависимости от названий файлов)\n",
        "3. файлы ru_word_* (наши чанки) в папке split_space (!поменять название файла в get_hole_embeddings)\n",
        "\n",
        "Для извлечения фич\n",
        "4. папка features (туда будут сохраняться файлы)\n",
        "5. ru_cbow_normalized_dict (модель)"
      ]
    },
    {
      "cell_type": "markdown",
      "source": [
        "### some info"
      ],
      "metadata": {
        "id": "YrI3p0y9C9PC"
      },
      "id": "YrI3p0y9C9PC"
    },
    {
      "cell_type": "code",
      "execution_count": null,
      "id": "c7OSGID5vznw",
      "metadata": {
        "colab": {
          "base_uri": "https://localhost:8080/"
        },
        "id": "c7OSGID5vznw",
        "outputId": "7204029e-9b55-4e75-8ed7-f06aae3487df"
      },
      "outputs": [
        {
          "data": {
            "text/plain": [
              "{'0': array([488]), '1111': array([400, 415, 435, 444, 470, 492])}"
            ]
          },
          "execution_count": 4,
          "metadata": {},
          "output_type": "execute_result"
        }
      ],
      "source": [
        "by_syn_dang = np.load('filtered_by_lifetimes_and_syn.npy', allow_pickle=True).item()\n",
        "by_syn_dang"
      ]
    },
    {
      "cell_type": "code",
      "execution_count": null,
      "id": "QIx_5oF8wXms",
      "metadata": {
        "colab": {
          "base_uri": "https://localhost:8080/"
        },
        "collapsed": true,
        "id": "QIx_5oF8wXms",
        "outputId": "e80a9021-53b5-4644-dbc9-7be6780ca038"
      },
      "outputs": [
        {
          "data": {
            "text/plain": [
              "{'0': np.int64(203),\n",
              " '10': np.int64(444),\n",
              " '110': np.int64(485),\n",
              " '1110': np.int64(493),\n",
              " '1111': np.int64(291),\n",
              " '1112': -1,\n",
              " '1113': np.int64(496),\n",
              " '112': np.int64(486),\n",
              " '113': np.int64(227),\n",
              " '114': np.int64(477),\n",
              " '12': np.int64(457),\n",
              " '13': np.int64(453),\n",
              " '14': np.int64(439),\n",
              " '2': np.int64(376),\n",
              " '3': np.int64(286),\n",
              " '4': np.int64(302),\n",
              " '5': np.int64(380),\n",
              " '6': np.int64(479),\n",
              " '7': np.int64(424)}"
            ]
          },
          "execution_count": 5,
          "metadata": {},
          "output_type": "execute_result"
        }
      ],
      "source": [
        "by_lt_dang = np.load('filtered_by_lifetimes (1).npy', allow_pickle=True).item()\n",
        "by_lt_dang"
      ]
    },
    {
      "cell_type": "code",
      "execution_count": null,
      "id": "H4uPMLD5D-85",
      "metadata": {
        "colab": {
          "base_uri": "https://localhost:8080/"
        },
        "id": "H4uPMLD5D-85",
        "outputId": "b9bc52d5-1374-4553-da99-e5d9d609c736"
      },
      "outputs": [
        {
          "name": "stdout",
          "output_type": "stream",
          "text": [
            "SYN: {'0': array([403, 437])}\n",
            "DIAM Q=.995: {'0': array([403, 437, 477, 486])}\n",
            "DIAM Q=.99: {'0': array([237, 375, 403, 426, 437, 470, 477, 486])}\n"
          ]
        }
      ],
      "source": [
        "by_syn = np.load('filtered_by_lifetimes_and_syn_norm_km5.npy', allow_pickle=True).item()\n",
        "by_diam995 = np.load('filtered_by_lifetimes_and_hole_diam_norm_km5_995.npy', allow_pickle=True).item()\n",
        "by_diam99 = np.load('filtered_by_lifetimes_and_hole_diam_norm_km5_99.npy', allow_pickle=True).item()\n",
        "print(f'SYN: {by_syn}')\n",
        "print(f'DIAM Q=.995: {by_diam995}')\n",
        "print(f'DIAM Q=.99: {by_diam99}')"
      ]
    },
    {
      "cell_type": "markdown",
      "id": "5giOxYj33BMd",
      "metadata": {
        "id": "5giOxYj33BMd"
      },
      "source": [
        "BY SYN KM=5\n",
        "\n",
        "Hole 403: ['проучивать', 'припугивать', 'прирезывать', 'прирезать', 'загрызать', 'укусить', 'цапнуть', 'вцепляться', 'сжимать', 'сжиматься', 'защемлять', 'щемить', 'щемящий', 'сосущий', 'глодать', 'снедать', 'пересиливать', 'побороть', 'совладать', 'утихомиривать', 'угомонять', 'приструнивать']\n",
        "\n",
        "Hole 437: ['холодильник', 'пицца', 'пирожок', 'дожевывать', 'откусывать', 'отгрызать', 'цапнуть', 'отпихивать', 'отпрыгивать', 'рвануться', 'ринуться', 'помчаться', 'ускакивать', 'пришпоривать', 'седлать', 'расседлывать', 'мул', 'двуколка', 'пролетка', 'кабриолет', 'джип', 'гараж', 'подъезд', 'крыльцо', 'веранда', 'балкон', 'лоджия', 'кладовка']\n"
      ]
    },
    {
      "cell_type": "code",
      "execution_count": null,
      "id": "KOHKhb7b2mtL",
      "metadata": {
        "colab": {
          "base_uri": "https://localhost:8080/"
        },
        "id": "KOHKhb7b2mtL",
        "outputId": "cc091ebc-45fc-4b7c-e074-fea3d87dd039"
      },
      "outputs": [
        {
          "name": "stdout",
          "output_type": "stream",
          "text": [
            "SYN KM=10: {'3': array([389, 463])}\n",
            "DIAM KM=10 Q=.995: {'3': array([281, 389, 403, 443, 463, 499])}\n"
          ]
        }
      ],
      "source": [
        "by_syn = np.load('filtered_by_lifetimes_and_syn_norm.npy', allow_pickle=True).item()\n",
        "by_diam995 = np.load('filtered_by_lifetimes_and_hole_diam_norm.npy', allow_pickle=True).item()\n",
        "\n",
        "print(f'SYN KM=10: {by_syn}')\n",
        "print(f'DIAM KM=10 Q=.995: {by_diam995}')"
      ]
    },
    {
      "cell_type": "markdown",
      "id": "0FM2spyR3wwX",
      "metadata": {
        "id": "0FM2spyR3wwX"
      },
      "source": [
        "BY SYN KM=10\n",
        "\n",
        "Hole 389: ['телохранитель', 'гвардеец', 'оруженосец', 'рыцарь', 'воин', 'орк', 'вожак', 'волк', 'волчонок', 'котенок', 'малыш', 'сестренка', 'дочурка', 'внучка', 'племянница', 'баронесса', 'цесаревна', 'михайлович', 'генерал', 'майор', 'комиссар', 'инспектор', 'охранник', 'констебль']\n",
        "\n",
        "Hole 463: ['полиция', 'милиция', 'мент', 'бандит', 'отморозок', 'лох', 'говнюк', 'засранец', 'стерва', 'бабник', 'ловелас', 'хлыщ', 'аристократка', 'особа', 'леди', 'баронесса', 'цесаревна', 'михайлович', 'генерал', 'майор', 'комиссар', 'полицейский', 'инспектор']\n"
      ]
    },
    {
      "cell_type": "markdown",
      "id": "9QEcprxFAEgD",
      "metadata": {
        "id": "9QEcprxFAEgD"
      },
      "source": [
        "## get hole embeddings"
      ]
    },
    {
      "cell_type": "code",
      "execution_count": 2,
      "id": "hGpARW0mAqrs",
      "metadata": {
        "id": "hGpARW0mAqrs"
      },
      "outputs": [],
      "source": [
        "def get_cycles(cycles):\n",
        "    \"\"\"\n",
        "        Get homology representatives (cycles) based on list of connected edges.\n",
        "    \"\"\"\n",
        "    new_cycle_flag = True\n",
        "    cycles_list = []\n",
        "    cur_cycle = set()\n",
        "    for a, b in cycles:\n",
        "        if new_cycle_flag:\n",
        "            cur_cycle.update([a])\n",
        "            cur_cycle.update([b])\n",
        "            cycles_list.append([])\n",
        "            new_cycle_flag = False\n",
        "            continue\n",
        "        if a in cur_cycle:\n",
        "            cur_cycle.remove(a)\n",
        "            cycles_list[-1].append(a)\n",
        "        else:\n",
        "            cur_cycle.update([a])\n",
        "        if b in cur_cycle:\n",
        "            cur_cycle.remove(b)\n",
        "            cycles_list[-1].append(b)\n",
        "        else:\n",
        "            cur_cycle.update([b])\n",
        "        if len(cur_cycle) == 0:\n",
        "            new_cycle_flag = True\n",
        "    return cycles_list"
      ]
    },
    {
      "cell_type": "code",
      "execution_count": 3,
      "id": "BjW8ogrcASKm",
      "metadata": {
        "id": "BjW8ogrcASKm"
      },
      "outputs": [],
      "source": [
        "def get_holes_per_chunk(dir=\"holes\", filenames=\"ru_word_holes_*.npy\"):\n",
        "    \"\"\"\n",
        "        Get all homology representatives (cycles) for each chunk.\n",
        "    \"\"\"\n",
        "    hole_contours = {}\n",
        "    for file in glob.glob(f\"{dir}/{filenames}\"):\n",
        "        hole_contours[\"_\".join(file.split('_')[4:])[:-4]] = get_cycles(np.load(file) - 1) # 5 - позиция индекса чанка в названии файла ru_hord_holes_*\n",
        "    return hole_contours"
      ]
    },
    {
      "cell_type": "code",
      "execution_count": 4,
      "id": "HgbHmZeAAHBA",
      "metadata": {
        "id": "HgbHmZeAAHBA"
      },
      "outputs": [],
      "source": [
        "def get_hole_embeddings(lang='ru', part='word', filtered_path = \"filtered_by_lifetimes_and_syn_norm_km5.npy\"):\n",
        "    \"\"\"\n",
        "    Dictionary keys: {chunk_number}${hole_number}: embeddings\n",
        "    \"\"\"\n",
        "\n",
        "    filtered = np.load(filtered_path, allow_pickle=True).item()\n",
        "\n",
        "    # получаем контуры дырок\n",
        "    h1_contours = get_holes_per_chunk(dir='holes', filenames=f\"{lang}_{part}_holes_*.npy\")\n",
        "\n",
        "    hole_embeddings = {}\n",
        "\n",
        "    # итерируемся по чанкам в filtered\n",
        "    for c in filtered:\n",
        "        embs = np.load(f'split_space/ru_word_norm_{c}.npy') # вот тут менять если что\n",
        "        for hole_num in filtered[c]:\n",
        "            hole_embeddings[f\"{c}${hole_num}\"] = embs[h1_contours[c][hole_num]]\n",
        "\n",
        "    filtered_name = '_'.join(filtered_path.split('_')[1:])\n",
        "    np.save(f\"holes/hole_embeddings_{filtered_name}\", hole_embeddings)"
      ]
    },
    {
      "cell_type": "code",
      "execution_count": null,
      "id": "nwYWs6TfYc2q",
      "metadata": {
        "colab": {
          "base_uri": "https://localhost:8080/"
        },
        "id": "nwYWs6TfYc2q",
        "outputId": "0c6b644c-33ce-4c64-b1c6-a49332f1377b"
      },
      "outputs": [
        {
          "name": "stdout",
          "output_type": "stream",
          "text": [
            "dict_keys(['4', '2', '3', '0', '1'])\n"
          ]
        }
      ],
      "source": [
        "hole_diam_km5_995 = '/content/filtered_by_lifetimes_and_hole_diam_norm_km5_995.npy'\n",
        "get_hole_embeddings(filtered_path=hole_diam_km5_995)"
      ]
    },
    {
      "cell_type": "code",
      "execution_count": null,
      "id": "OUV2r5LQbhWF",
      "metadata": {
        "id": "OUV2r5LQbhWF"
      },
      "outputs": [],
      "source": [
        "hole_diam_km5_99 = '/content/filtered_by_lifetimes_and_hole_diam_norm_km5_99.npy'\n",
        "get_hole_embeddings(filtered_path=hole_diam_km5_99)"
      ]
    },
    {
      "cell_type": "code",
      "execution_count": null,
      "id": "6ZhqSGGRbwhn",
      "metadata": {
        "id": "6ZhqSGGRbwhn"
      },
      "outputs": [],
      "source": [
        "hole_syn_km5 = '/content/filtered_by_lifetimes_and_syn_norm_km5.npy'\n",
        "get_hole_embeddings(filtered_path=hole_syn_km5)"
      ]
    },
    {
      "cell_type": "code",
      "source": [
        "hole_syn_km10 = '/content/filtered_by_lifetimes_and_syn_norm.npy'\n",
        "get_hole_embeddings(filtered_path=hole_syn_km10)"
      ],
      "metadata": {
        "id": "Ph9hPN0yWpVt"
      },
      "id": "Ph9hPN0yWpVt",
      "execution_count": 5,
      "outputs": []
    },
    {
      "cell_type": "markdown",
      "id": "69b71630-0746-4f29-b20d-d711167669dd",
      "metadata": {
        "id": "69b71630-0746-4f29-b20d-d711167669dd"
      },
      "source": [
        "## funcs"
      ]
    },
    {
      "cell_type": "code",
      "execution_count": 6,
      "id": "2c467d64-1028-439e-bfd5-bc7fb85a4f50",
      "metadata": {
        "id": "2c467d64-1028-439e-bfd5-bc7fb85a4f50"
      },
      "outputs": [],
      "source": [
        "def get_word_space(model, text):\n",
        "    corpus = text\n",
        "    words = set([w for w in corpus.split() if w in model])\n",
        "    space = np.vstack([model[w] for w in words])\n",
        "    return space\n",
        "\n",
        "\n",
        "from sklearn.metrics import pairwise_distances\n",
        "def get_dist_to_centers_array(e, hole_e_centers):\n",
        "    a = pairwise_distances(e, hole_e_centers, metric='cosine')\n",
        "    return np.hstack([a, a.mean(axis=1).reshape(-1, 1)])\n",
        "\n",
        "from collections import Counter\n",
        "def get_dist_array(e, hole_embs, apply_func=np.min):\n",
        "    dist_list = np.vstack([apply_func(pairwise_distances(e, hole, metric='cosine'), axis=1) for hole in hole_embs])\n",
        "    dist_list = np.vstack([dist_list, dist_list.mean(axis=0)])\n",
        "    return dist_list.T\n",
        "def get_most_common_closest_hole(min_dist):\n",
        "    cnt = Counter(min_dist.argmin(axis=1))\n",
        "    a = np.array([cnt[hn] for hn in range(min_dist.shape[1])]) / min_dist.shape[0]\n",
        "    return np.hstack([a, [a.argmax()]])"
      ]
    },
    {
      "cell_type": "code",
      "execution_count": 7,
      "id": "cc7c3ce0-218f-4162-aeb5-74aa83ac08a7",
      "metadata": {
        "id": "cc7c3ce0-218f-4162-aeb5-74aa83ac08a7"
      },
      "outputs": [],
      "source": [
        "import pandas as pd\n",
        "'''\n",
        " model - наш словарь эмбеддингов\n",
        " texts - список строк из файла\n",
        " holes_type - путь к файлу с соответсвующими эмбеддингами дырок (по синонимам/ по диаметру)\n",
        "'''\n",
        "def process(texts, model,\n",
        "            lang='RU',\n",
        "            holes_path='/content/holes/hole_embeddings_by_lifetimes_and_syn_norm_km5.npy',\n",
        "            text_type='lit', hole_type='syn'):\n",
        "\n",
        "    features = []\n",
        "    text_names = []\n",
        "    # for part in ['word', 'bigram', 'trigram']:\n",
        "    hole_embeddings = np.load(holes_path, allow_pickle=True).item() # загружаем эмбеддинги дырок\n",
        "\n",
        "    hole_e_centers = np.vstack([h.mean(axis=0) for h in hole_embeddings.values()]) # получаем центры\n",
        "\n",
        "    for i, f in tqdm(enumerate(texts), desc=\"Processing words...\"):\n",
        "\n",
        "      try:\n",
        "        space = get_word_space(model, f) # слова текста\n",
        "\n",
        "        c_mean = np.mean(get_dist_to_centers_array(space, hole_e_centers), axis=0)\n",
        "        m1 = get_dist_array(space, hole_embeddings.values(), np.min)\n",
        "        m2_mean = np.mean(get_dist_array(space, hole_embeddings.values(), np.max), axis=0)\n",
        "        h = get_most_common_closest_hole(m1[:,:-1])\n",
        "        features.append(np.hstack([c_mean, np.mean(m1, axis=0), m2_mean, h]))\n",
        "\n",
        "        name = f'{text_type}_{i}'\n",
        "        text_names.append(name)\n",
        "      except:\n",
        "        continue\n",
        "\n",
        "    data = pd.DataFrame(features)\n",
        "    data['text'] = text_names\n",
        "    data.to_csv(f\"features/{lang}_{text_type}_{hole_type}_features.csv\", index=False)\n",
        "    print(f\"Saved at features/{lang}_{text_type}_{hole_type}_features.csv\")"
      ]
    },
    {
      "cell_type": "markdown",
      "id": "23358941-da39-4ad4-b777-70cbfe64607b",
      "metadata": {
        "id": "23358941-da39-4ad4-b777-70cbfe64607b"
      },
      "source": [
        "## extracting"
      ]
    },
    {
      "cell_type": "code",
      "execution_count": 10,
      "id": "4ce53171-7478-46eb-a8b1-4cb22e6e78d0",
      "metadata": {
        "id": "4ce53171-7478-46eb-a8b1-4cb22e6e78d0"
      },
      "outputs": [],
      "source": [
        "ru_model = np.load(\"ru_cbow_normalized_dict.npy\", allow_pickle=True).item()"
      ]
    },
    {
      "cell_type": "code",
      "source": [
        "from google.colab import drive\n",
        "drive.mount('/content/drive')"
      ],
      "metadata": {
        "colab": {
          "base_uri": "https://localhost:8080/"
        },
        "id": "ZlBj3MW7abk9",
        "outputId": "b10fe69f-b9b4-4139-ceef-d12f2737bc92"
      },
      "id": "ZlBj3MW7abk9",
      "execution_count": 8,
      "outputs": [
        {
          "output_type": "stream",
          "name": "stdout",
          "text": [
            "Mounted at /content/drive\n"
          ]
        }
      ]
    },
    {
      "cell_type": "markdown",
      "id": "zAxw-qOOj_eC",
      "metadata": {
        "id": "zAxw-qOOj_eC"
      },
      "source": [
        "### models"
      ]
    },
    {
      "cell_type": "code",
      "execution_count": 16,
      "id": "QLqDZusaj7aN",
      "metadata": {
        "colab": {
          "base_uri": "https://localhost:8080/"
        },
        "id": "QLqDZusaj7aN",
        "outputId": "ef761ca0-ae37-4f15-8dc9-6a3bec87596c"
      },
      "outputs": [
        {
          "output_type": "stream",
          "name": "stderr",
          "text": [
            "Processing words...: 501it [00:08, 58.26it/s]"
          ]
        },
        {
          "output_type": "stream",
          "name": "stdout",
          "text": [
            "Saved at features/RU_bigmGPT_syn10_features.csv\n"
          ]
        },
        {
          "output_type": "stream",
          "name": "stderr",
          "text": [
            "\n"
          ]
        }
      ],
      "source": [
        "text_type = 'bigmGPT'\n",
        "lang = 'RU'\n",
        "hole_emb = '/content/holes/hole_embeddings_by_lifetimes_and_syn_norm.npy'\n",
        "hole_type = 'syn10'\n",
        "\n",
        "with open('/content/drive/MyDrive/classifier/russian_bigmGPT_corpus.txt', encoding='utf-8') as f:\n",
        "  texts = f.readlines()\n",
        "\n",
        "process(texts, ru_model, lang=lang, holes_path=hole_emb, text_type=text_type, hole_type=hole_type)"
      ]
    },
    {
      "cell_type": "code",
      "execution_count": null,
      "id": "tM0zjFAulGBo",
      "metadata": {
        "colab": {
          "base_uri": "https://localhost:8080/",
          "height": 255
        },
        "id": "tM0zjFAulGBo",
        "outputId": "dcd9e8be-1ddc-428f-b556-6f858fd03961"
      },
      "outputs": [
        {
          "data": {
            "application/vnd.google.colaboratory.intrinsic+json": {
              "type": "dataframe",
              "variable_name": "check"
            },
            "text/html": [
              "\n",
              "  <div id=\"df-43cf25dd-b0be-4cec-8e18-e5a43fddef31\" class=\"colab-df-container\">\n",
              "    <div>\n",
              "<style scoped>\n",
              "    .dataframe tbody tr th:only-of-type {\n",
              "        vertical-align: middle;\n",
              "    }\n",
              "\n",
              "    .dataframe tbody tr th {\n",
              "        vertical-align: top;\n",
              "    }\n",
              "\n",
              "    .dataframe thead th {\n",
              "        text-align: right;\n",
              "    }\n",
              "</style>\n",
              "<table border=\"1\" class=\"dataframe\">\n",
              "  <thead>\n",
              "    <tr style=\"text-align: right;\">\n",
              "      <th></th>\n",
              "      <th>0</th>\n",
              "      <th>1</th>\n",
              "      <th>2</th>\n",
              "      <th>3</th>\n",
              "      <th>4</th>\n",
              "      <th>5</th>\n",
              "      <th>6</th>\n",
              "      <th>7</th>\n",
              "      <th>8</th>\n",
              "      <th>9</th>\n",
              "      <th>...</th>\n",
              "      <th>11</th>\n",
              "      <th>12</th>\n",
              "      <th>13</th>\n",
              "      <th>14</th>\n",
              "      <th>15</th>\n",
              "      <th>16</th>\n",
              "      <th>17</th>\n",
              "      <th>18</th>\n",
              "      <th>19</th>\n",
              "      <th>text</th>\n",
              "    </tr>\n",
              "  </thead>\n",
              "  <tbody>\n",
              "    <tr>\n",
              "      <th>0</th>\n",
              "      <td>1.082225</td>\n",
              "      <td>1.089637</td>\n",
              "      <td>1.013094</td>\n",
              "      <td>1.036894</td>\n",
              "      <td>1.055462</td>\n",
              "      <td>0.866977</td>\n",
              "      <td>0.839177</td>\n",
              "      <td>0.814157</td>\n",
              "      <td>0.835120</td>\n",
              "      <td>0.838858</td>\n",
              "      <td>...</td>\n",
              "      <td>1.229846</td>\n",
              "      <td>1.176558</td>\n",
              "      <td>1.186171</td>\n",
              "      <td>1.198987</td>\n",
              "      <td>0.221277</td>\n",
              "      <td>0.263830</td>\n",
              "      <td>0.255319</td>\n",
              "      <td>0.259574</td>\n",
              "      <td>1.0</td>\n",
              "      <td>bigmGPT_0</td>\n",
              "    </tr>\n",
              "    <tr>\n",
              "      <th>1</th>\n",
              "      <td>1.076907</td>\n",
              "      <td>1.078530</td>\n",
              "      <td>1.017054</td>\n",
              "      <td>1.028771</td>\n",
              "      <td>1.050315</td>\n",
              "      <td>0.865069</td>\n",
              "      <td>0.828327</td>\n",
              "      <td>0.821411</td>\n",
              "      <td>0.834726</td>\n",
              "      <td>0.837383</td>\n",
              "      <td>...</td>\n",
              "      <td>1.223945</td>\n",
              "      <td>1.173936</td>\n",
              "      <td>1.179400</td>\n",
              "      <td>1.194596</td>\n",
              "      <td>0.216741</td>\n",
              "      <td>0.288490</td>\n",
              "      <td>0.251121</td>\n",
              "      <td>0.243647</td>\n",
              "      <td>1.0</td>\n",
              "      <td>bigmGPT_1</td>\n",
              "    </tr>\n",
              "    <tr>\n",
              "      <th>2</th>\n",
              "      <td>1.072706</td>\n",
              "      <td>1.064612</td>\n",
              "      <td>1.002672</td>\n",
              "      <td>1.012025</td>\n",
              "      <td>1.038004</td>\n",
              "      <td>0.859922</td>\n",
              "      <td>0.813129</td>\n",
              "      <td>0.805533</td>\n",
              "      <td>0.816986</td>\n",
              "      <td>0.823893</td>\n",
              "      <td>...</td>\n",
              "      <td>1.225792</td>\n",
              "      <td>1.170201</td>\n",
              "      <td>1.174063</td>\n",
              "      <td>1.193014</td>\n",
              "      <td>0.197640</td>\n",
              "      <td>0.286136</td>\n",
              "      <td>0.241888</td>\n",
              "      <td>0.274336</td>\n",
              "      <td>1.0</td>\n",
              "      <td>bigmGPT_2</td>\n",
              "    </tr>\n",
              "    <tr>\n",
              "      <th>3</th>\n",
              "      <td>1.062818</td>\n",
              "      <td>1.059684</td>\n",
              "      <td>1.019625</td>\n",
              "      <td>1.022787</td>\n",
              "      <td>1.041227</td>\n",
              "      <td>0.852759</td>\n",
              "      <td>0.813511</td>\n",
              "      <td>0.817508</td>\n",
              "      <td>0.825116</td>\n",
              "      <td>0.827224</td>\n",
              "      <td>...</td>\n",
              "      <td>1.219540</td>\n",
              "      <td>1.180324</td>\n",
              "      <td>1.181757</td>\n",
              "      <td>1.194942</td>\n",
              "      <td>0.222558</td>\n",
              "      <td>0.293555</td>\n",
              "      <td>0.239174</td>\n",
              "      <td>0.244713</td>\n",
              "      <td>1.0</td>\n",
              "      <td>bigmGPT_3</td>\n",
              "    </tr>\n",
              "    <tr>\n",
              "      <th>4</th>\n",
              "      <td>1.090381</td>\n",
              "      <td>1.130216</td>\n",
              "      <td>1.018758</td>\n",
              "      <td>1.048497</td>\n",
              "      <td>1.071963</td>\n",
              "      <td>0.877886</td>\n",
              "      <td>0.863891</td>\n",
              "      <td>0.821291</td>\n",
              "      <td>0.851104</td>\n",
              "      <td>0.853543</td>\n",
              "      <td>...</td>\n",
              "      <td>1.243042</td>\n",
              "      <td>1.170997</td>\n",
              "      <td>1.188387</td>\n",
              "      <td>1.202265</td>\n",
              "      <td>0.242268</td>\n",
              "      <td>0.201031</td>\n",
              "      <td>0.319588</td>\n",
              "      <td>0.237113</td>\n",
              "      <td>2.0</td>\n",
              "      <td>bigmGPT_4</td>\n",
              "    </tr>\n",
              "  </tbody>\n",
              "</table>\n",
              "<p>5 rows × 21 columns</p>\n",
              "</div>\n",
              "    <div class=\"colab-df-buttons\">\n",
              "\n",
              "  <div class=\"colab-df-container\">\n",
              "    <button class=\"colab-df-convert\" onclick=\"convertToInteractive('df-43cf25dd-b0be-4cec-8e18-e5a43fddef31')\"\n",
              "            title=\"Convert this dataframe to an interactive table.\"\n",
              "            style=\"display:none;\">\n",
              "\n",
              "  <svg xmlns=\"http://www.w3.org/2000/svg\" height=\"24px\" viewBox=\"0 -960 960 960\">\n",
              "    <path d=\"M120-120v-720h720v720H120Zm60-500h600v-160H180v160Zm220 220h160v-160H400v160Zm0 220h160v-160H400v160ZM180-400h160v-160H180v160Zm440 0h160v-160H620v160ZM180-180h160v-160H180v160Zm440 0h160v-160H620v160Z\"/>\n",
              "  </svg>\n",
              "    </button>\n",
              "\n",
              "  <style>\n",
              "    .colab-df-container {\n",
              "      display:flex;\n",
              "      gap: 12px;\n",
              "    }\n",
              "\n",
              "    .colab-df-convert {\n",
              "      background-color: #E8F0FE;\n",
              "      border: none;\n",
              "      border-radius: 50%;\n",
              "      cursor: pointer;\n",
              "      display: none;\n",
              "      fill: #1967D2;\n",
              "      height: 32px;\n",
              "      padding: 0 0 0 0;\n",
              "      width: 32px;\n",
              "    }\n",
              "\n",
              "    .colab-df-convert:hover {\n",
              "      background-color: #E2EBFA;\n",
              "      box-shadow: 0px 1px 2px rgba(60, 64, 67, 0.3), 0px 1px 3px 1px rgba(60, 64, 67, 0.15);\n",
              "      fill: #174EA6;\n",
              "    }\n",
              "\n",
              "    .colab-df-buttons div {\n",
              "      margin-bottom: 4px;\n",
              "    }\n",
              "\n",
              "    [theme=dark] .colab-df-convert {\n",
              "      background-color: #3B4455;\n",
              "      fill: #D2E3FC;\n",
              "    }\n",
              "\n",
              "    [theme=dark] .colab-df-convert:hover {\n",
              "      background-color: #434B5C;\n",
              "      box-shadow: 0px 1px 3px 1px rgba(0, 0, 0, 0.15);\n",
              "      filter: drop-shadow(0px 1px 2px rgba(0, 0, 0, 0.3));\n",
              "      fill: #FFFFFF;\n",
              "    }\n",
              "  </style>\n",
              "\n",
              "    <script>\n",
              "      const buttonEl =\n",
              "        document.querySelector('#df-43cf25dd-b0be-4cec-8e18-e5a43fddef31 button.colab-df-convert');\n",
              "      buttonEl.style.display =\n",
              "        google.colab.kernel.accessAllowed ? 'block' : 'none';\n",
              "\n",
              "      async function convertToInteractive(key) {\n",
              "        const element = document.querySelector('#df-43cf25dd-b0be-4cec-8e18-e5a43fddef31');\n",
              "        const dataTable =\n",
              "          await google.colab.kernel.invokeFunction('convertToInteractive',\n",
              "                                                    [key], {});\n",
              "        if (!dataTable) return;\n",
              "\n",
              "        const docLinkHtml = 'Like what you see? Visit the ' +\n",
              "          '<a target=\"_blank\" href=https://colab.research.google.com/notebooks/data_table.ipynb>data table notebook</a>'\n",
              "          + ' to learn more about interactive tables.';\n",
              "        element.innerHTML = '';\n",
              "        dataTable['output_type'] = 'display_data';\n",
              "        await google.colab.output.renderOutput(dataTable, element);\n",
              "        const docLink = document.createElement('div');\n",
              "        docLink.innerHTML = docLinkHtml;\n",
              "        element.appendChild(docLink);\n",
              "      }\n",
              "    </script>\n",
              "  </div>\n",
              "\n",
              "\n",
              "    <div id=\"df-b41a0e90-87bb-45b1-9adb-0bda5ece1b27\">\n",
              "      <button class=\"colab-df-quickchart\" onclick=\"quickchart('df-b41a0e90-87bb-45b1-9adb-0bda5ece1b27')\"\n",
              "                title=\"Suggest charts\"\n",
              "                style=\"display:none;\">\n",
              "\n",
              "<svg xmlns=\"http://www.w3.org/2000/svg\" height=\"24px\"viewBox=\"0 0 24 24\"\n",
              "     width=\"24px\">\n",
              "    <g>\n",
              "        <path d=\"M19 3H5c-1.1 0-2 .9-2 2v14c0 1.1.9 2 2 2h14c1.1 0 2-.9 2-2V5c0-1.1-.9-2-2-2zM9 17H7v-7h2v7zm4 0h-2V7h2v10zm4 0h-2v-4h2v4z\"/>\n",
              "    </g>\n",
              "</svg>\n",
              "      </button>\n",
              "\n",
              "<style>\n",
              "  .colab-df-quickchart {\n",
              "      --bg-color: #E8F0FE;\n",
              "      --fill-color: #1967D2;\n",
              "      --hover-bg-color: #E2EBFA;\n",
              "      --hover-fill-color: #174EA6;\n",
              "      --disabled-fill-color: #AAA;\n",
              "      --disabled-bg-color: #DDD;\n",
              "  }\n",
              "\n",
              "  [theme=dark] .colab-df-quickchart {\n",
              "      --bg-color: #3B4455;\n",
              "      --fill-color: #D2E3FC;\n",
              "      --hover-bg-color: #434B5C;\n",
              "      --hover-fill-color: #FFFFFF;\n",
              "      --disabled-bg-color: #3B4455;\n",
              "      --disabled-fill-color: #666;\n",
              "  }\n",
              "\n",
              "  .colab-df-quickchart {\n",
              "    background-color: var(--bg-color);\n",
              "    border: none;\n",
              "    border-radius: 50%;\n",
              "    cursor: pointer;\n",
              "    display: none;\n",
              "    fill: var(--fill-color);\n",
              "    height: 32px;\n",
              "    padding: 0;\n",
              "    width: 32px;\n",
              "  }\n",
              "\n",
              "  .colab-df-quickchart:hover {\n",
              "    background-color: var(--hover-bg-color);\n",
              "    box-shadow: 0 1px 2px rgba(60, 64, 67, 0.3), 0 1px 3px 1px rgba(60, 64, 67, 0.15);\n",
              "    fill: var(--button-hover-fill-color);\n",
              "  }\n",
              "\n",
              "  .colab-df-quickchart-complete:disabled,\n",
              "  .colab-df-quickchart-complete:disabled:hover {\n",
              "    background-color: var(--disabled-bg-color);\n",
              "    fill: var(--disabled-fill-color);\n",
              "    box-shadow: none;\n",
              "  }\n",
              "\n",
              "  .colab-df-spinner {\n",
              "    border: 2px solid var(--fill-color);\n",
              "    border-color: transparent;\n",
              "    border-bottom-color: var(--fill-color);\n",
              "    animation:\n",
              "      spin 1s steps(1) infinite;\n",
              "  }\n",
              "\n",
              "  @keyframes spin {\n",
              "    0% {\n",
              "      border-color: transparent;\n",
              "      border-bottom-color: var(--fill-color);\n",
              "      border-left-color: var(--fill-color);\n",
              "    }\n",
              "    20% {\n",
              "      border-color: transparent;\n",
              "      border-left-color: var(--fill-color);\n",
              "      border-top-color: var(--fill-color);\n",
              "    }\n",
              "    30% {\n",
              "      border-color: transparent;\n",
              "      border-left-color: var(--fill-color);\n",
              "      border-top-color: var(--fill-color);\n",
              "      border-right-color: var(--fill-color);\n",
              "    }\n",
              "    40% {\n",
              "      border-color: transparent;\n",
              "      border-right-color: var(--fill-color);\n",
              "      border-top-color: var(--fill-color);\n",
              "    }\n",
              "    60% {\n",
              "      border-color: transparent;\n",
              "      border-right-color: var(--fill-color);\n",
              "    }\n",
              "    80% {\n",
              "      border-color: transparent;\n",
              "      border-right-color: var(--fill-color);\n",
              "      border-bottom-color: var(--fill-color);\n",
              "    }\n",
              "    90% {\n",
              "      border-color: transparent;\n",
              "      border-bottom-color: var(--fill-color);\n",
              "    }\n",
              "  }\n",
              "</style>\n",
              "\n",
              "      <script>\n",
              "        async function quickchart(key) {\n",
              "          const quickchartButtonEl =\n",
              "            document.querySelector('#' + key + ' button');\n",
              "          quickchartButtonEl.disabled = true;  // To prevent multiple clicks.\n",
              "          quickchartButtonEl.classList.add('colab-df-spinner');\n",
              "          try {\n",
              "            const charts = await google.colab.kernel.invokeFunction(\n",
              "                'suggestCharts', [key], {});\n",
              "          } catch (error) {\n",
              "            console.error('Error during call to suggestCharts:', error);\n",
              "          }\n",
              "          quickchartButtonEl.classList.remove('colab-df-spinner');\n",
              "          quickchartButtonEl.classList.add('colab-df-quickchart-complete');\n",
              "        }\n",
              "        (() => {\n",
              "          let quickchartButtonEl =\n",
              "            document.querySelector('#df-b41a0e90-87bb-45b1-9adb-0bda5ece1b27 button');\n",
              "          quickchartButtonEl.style.display =\n",
              "            google.colab.kernel.accessAllowed ? 'block' : 'none';\n",
              "        })();\n",
              "      </script>\n",
              "    </div>\n",
              "    </div>\n",
              "  </div>\n"
            ],
            "text/plain": [
              "          0         1         2         3         4         5         6  \\\n",
              "0  1.082225  1.089637  1.013094  1.036894  1.055462  0.866977  0.839177   \n",
              "1  1.076907  1.078530  1.017054  1.028771  1.050315  0.865069  0.828327   \n",
              "2  1.072706  1.064612  1.002672  1.012025  1.038004  0.859922  0.813129   \n",
              "3  1.062818  1.059684  1.019625  1.022787  1.041227  0.852759  0.813511   \n",
              "4  1.090381  1.130216  1.018758  1.048497  1.071963  0.877886  0.863891   \n",
              "\n",
              "          7         8         9  ...        11        12        13        14  \\\n",
              "0  0.814157  0.835120  0.838858  ...  1.229846  1.176558  1.186171  1.198987   \n",
              "1  0.821411  0.834726  0.837383  ...  1.223945  1.173936  1.179400  1.194596   \n",
              "2  0.805533  0.816986  0.823893  ...  1.225792  1.170201  1.174063  1.193014   \n",
              "3  0.817508  0.825116  0.827224  ...  1.219540  1.180324  1.181757  1.194942   \n",
              "4  0.821291  0.851104  0.853543  ...  1.243042  1.170997  1.188387  1.202265   \n",
              "\n",
              "         15        16        17        18   19       text  \n",
              "0  0.221277  0.263830  0.255319  0.259574  1.0  bigmGPT_0  \n",
              "1  0.216741  0.288490  0.251121  0.243647  1.0  bigmGPT_1  \n",
              "2  0.197640  0.286136  0.241888  0.274336  1.0  bigmGPT_2  \n",
              "3  0.222558  0.293555  0.239174  0.244713  1.0  bigmGPT_3  \n",
              "4  0.242268  0.201031  0.319588  0.237113  2.0  bigmGPT_4  \n",
              "\n",
              "[5 rows x 21 columns]"
            ]
          },
          "execution_count": 45,
          "metadata": {},
          "output_type": "execute_result"
        }
      ],
      "source": [
        "check = pd.read_csv('/content/features/RU_bigmGPT_word_features.csv')\n",
        "check.head()"
      ]
    },
    {
      "cell_type": "code",
      "execution_count": 14,
      "id": "7y9OuOmrmvpN",
      "metadata": {
        "colab": {
          "base_uri": "https://localhost:8080/"
        },
        "id": "7y9OuOmrmvpN",
        "outputId": "eebcfbd9-a4fc-499d-d814-4a267c2c02cf"
      },
      "outputs": [
        {
          "output_type": "stream",
          "name": "stdout",
          "text": [
            "1039\n"
          ]
        },
        {
          "output_type": "stream",
          "name": "stderr",
          "text": [
            "Processing words...: 1039it [00:28, 36.52it/s]"
          ]
        },
        {
          "output_type": "stream",
          "name": "stdout",
          "text": [
            "Saved at features/RU_bigbalaboba_syn10_features.csv\n"
          ]
        },
        {
          "output_type": "stream",
          "name": "stderr",
          "text": [
            "\n"
          ]
        }
      ],
      "source": [
        "text_type = 'bigbalaboba'\n",
        "lang = 'RU'\n",
        "hole_emb = '/content/holes/hole_embeddings_by_lifetimes_and_syn_norm.npy'\n",
        "hole_type = 'syn10'\n",
        "\n",
        "with open('/content/drive/MyDrive/classifier/russian_bigbalaboba_corpus.txt', encoding='utf-8') as f:\n",
        "  texts = f.readlines()\n",
        "\n",
        "print(len(texts))\n",
        "process(texts, ru_model, lang=lang, holes_path=hole_emb, text_type=text_type, hole_type=hole_type)"
      ]
    },
    {
      "cell_type": "code",
      "execution_count": null,
      "id": "drH93SIYnVRC",
      "metadata": {
        "colab": {
          "base_uri": "https://localhost:8080/",
          "height": 255
        },
        "collapsed": true,
        "id": "drH93SIYnVRC",
        "outputId": "9490ecdd-919b-4905-9f49-ecefa260bcf0"
      },
      "outputs": [
        {
          "data": {
            "application/vnd.google.colaboratory.intrinsic+json": {
              "type": "dataframe",
              "variable_name": "check"
            },
            "text/html": [
              "\n",
              "  <div id=\"df-96250646-fc11-404a-989b-23cac4d162e8\" class=\"colab-df-container\">\n",
              "    <div>\n",
              "<style scoped>\n",
              "    .dataframe tbody tr th:only-of-type {\n",
              "        vertical-align: middle;\n",
              "    }\n",
              "\n",
              "    .dataframe tbody tr th {\n",
              "        vertical-align: top;\n",
              "    }\n",
              "\n",
              "    .dataframe thead th {\n",
              "        text-align: right;\n",
              "    }\n",
              "</style>\n",
              "<table border=\"1\" class=\"dataframe\">\n",
              "  <thead>\n",
              "    <tr style=\"text-align: right;\">\n",
              "      <th></th>\n",
              "      <th>0</th>\n",
              "      <th>1</th>\n",
              "      <th>2</th>\n",
              "      <th>3</th>\n",
              "      <th>4</th>\n",
              "      <th>5</th>\n",
              "      <th>6</th>\n",
              "      <th>7</th>\n",
              "      <th>8</th>\n",
              "      <th>9</th>\n",
              "      <th>...</th>\n",
              "      <th>11</th>\n",
              "      <th>12</th>\n",
              "      <th>13</th>\n",
              "      <th>14</th>\n",
              "      <th>15</th>\n",
              "      <th>16</th>\n",
              "      <th>17</th>\n",
              "      <th>18</th>\n",
              "      <th>19</th>\n",
              "      <th>text</th>\n",
              "    </tr>\n",
              "  </thead>\n",
              "  <tbody>\n",
              "    <tr>\n",
              "      <th>0</th>\n",
              "      <td>1.037670</td>\n",
              "      <td>1.081484</td>\n",
              "      <td>1.000895</td>\n",
              "      <td>1.034669</td>\n",
              "      <td>1.038680</td>\n",
              "      <td>0.841711</td>\n",
              "      <td>0.835470</td>\n",
              "      <td>0.816527</td>\n",
              "      <td>0.831690</td>\n",
              "      <td>0.831350</td>\n",
              "      <td>...</td>\n",
              "      <td>1.219895</td>\n",
              "      <td>1.157952</td>\n",
              "      <td>1.180791</td>\n",
              "      <td>1.184832</td>\n",
              "      <td>0.258537</td>\n",
              "      <td>0.248780</td>\n",
              "      <td>0.246341</td>\n",
              "      <td>0.246341</td>\n",
              "      <td>0.0</td>\n",
              "      <td>bigbalaboba_0</td>\n",
              "    </tr>\n",
              "    <tr>\n",
              "      <th>1</th>\n",
              "      <td>1.022798</td>\n",
              "      <td>1.051566</td>\n",
              "      <td>0.995250</td>\n",
              "      <td>1.011317</td>\n",
              "      <td>1.020233</td>\n",
              "      <td>0.825000</td>\n",
              "      <td>0.816158</td>\n",
              "      <td>0.814067</td>\n",
              "      <td>0.821650</td>\n",
              "      <td>0.819219</td>\n",
              "      <td>...</td>\n",
              "      <td>1.210596</td>\n",
              "      <td>1.158814</td>\n",
              "      <td>1.172144</td>\n",
              "      <td>1.180965</td>\n",
              "      <td>0.299229</td>\n",
              "      <td>0.246671</td>\n",
              "      <td>0.227050</td>\n",
              "      <td>0.227050</td>\n",
              "      <td>0.0</td>\n",
              "      <td>bigbalaboba_1</td>\n",
              "    </tr>\n",
              "    <tr>\n",
              "      <th>2</th>\n",
              "      <td>1.026721</td>\n",
              "      <td>1.066889</td>\n",
              "      <td>0.999182</td>\n",
              "      <td>1.024820</td>\n",
              "      <td>1.029404</td>\n",
              "      <td>0.836126</td>\n",
              "      <td>0.820326</td>\n",
              "      <td>0.816244</td>\n",
              "      <td>0.830463</td>\n",
              "      <td>0.825790</td>\n",
              "      <td>...</td>\n",
              "      <td>1.217098</td>\n",
              "      <td>1.155497</td>\n",
              "      <td>1.177516</td>\n",
              "      <td>1.182086</td>\n",
              "      <td>0.274468</td>\n",
              "      <td>0.257447</td>\n",
              "      <td>0.261702</td>\n",
              "      <td>0.206383</td>\n",
              "      <td>0.0</td>\n",
              "      <td>bigbalaboba_2</td>\n",
              "    </tr>\n",
              "    <tr>\n",
              "      <th>3</th>\n",
              "      <td>1.018794</td>\n",
              "      <td>1.036963</td>\n",
              "      <td>1.005106</td>\n",
              "      <td>1.004517</td>\n",
              "      <td>1.016346</td>\n",
              "      <td>0.820147</td>\n",
              "      <td>0.799098</td>\n",
              "      <td>0.813539</td>\n",
              "      <td>0.811154</td>\n",
              "      <td>0.810985</td>\n",
              "      <td>...</td>\n",
              "      <td>1.209251</td>\n",
              "      <td>1.170011</td>\n",
              "      <td>1.173177</td>\n",
              "      <td>1.183088</td>\n",
              "      <td>0.280868</td>\n",
              "      <td>0.271370</td>\n",
              "      <td>0.211443</td>\n",
              "      <td>0.236318</td>\n",
              "      <td>0.0</td>\n",
              "      <td>bigbalaboba_3</td>\n",
              "    </tr>\n",
              "    <tr>\n",
              "      <th>4</th>\n",
              "      <td>0.994863</td>\n",
              "      <td>1.080708</td>\n",
              "      <td>1.006653</td>\n",
              "      <td>0.997705</td>\n",
              "      <td>1.019982</td>\n",
              "      <td>0.806740</td>\n",
              "      <td>0.852872</td>\n",
              "      <td>0.828562</td>\n",
              "      <td>0.808737</td>\n",
              "      <td>0.824228</td>\n",
              "      <td>...</td>\n",
              "      <td>1.209706</td>\n",
              "      <td>1.153820</td>\n",
              "      <td>1.164620</td>\n",
              "      <td>1.174054</td>\n",
              "      <td>0.324324</td>\n",
              "      <td>0.162162</td>\n",
              "      <td>0.209459</td>\n",
              "      <td>0.304054</td>\n",
              "      <td>0.0</td>\n",
              "      <td>bigbalaboba_4</td>\n",
              "    </tr>\n",
              "  </tbody>\n",
              "</table>\n",
              "<p>5 rows × 21 columns</p>\n",
              "</div>\n",
              "    <div class=\"colab-df-buttons\">\n",
              "\n",
              "  <div class=\"colab-df-container\">\n",
              "    <button class=\"colab-df-convert\" onclick=\"convertToInteractive('df-96250646-fc11-404a-989b-23cac4d162e8')\"\n",
              "            title=\"Convert this dataframe to an interactive table.\"\n",
              "            style=\"display:none;\">\n",
              "\n",
              "  <svg xmlns=\"http://www.w3.org/2000/svg\" height=\"24px\" viewBox=\"0 -960 960 960\">\n",
              "    <path d=\"M120-120v-720h720v720H120Zm60-500h600v-160H180v160Zm220 220h160v-160H400v160Zm0 220h160v-160H400v160ZM180-400h160v-160H180v160Zm440 0h160v-160H620v160ZM180-180h160v-160H180v160Zm440 0h160v-160H620v160Z\"/>\n",
              "  </svg>\n",
              "    </button>\n",
              "\n",
              "  <style>\n",
              "    .colab-df-container {\n",
              "      display:flex;\n",
              "      gap: 12px;\n",
              "    }\n",
              "\n",
              "    .colab-df-convert {\n",
              "      background-color: #E8F0FE;\n",
              "      border: none;\n",
              "      border-radius: 50%;\n",
              "      cursor: pointer;\n",
              "      display: none;\n",
              "      fill: #1967D2;\n",
              "      height: 32px;\n",
              "      padding: 0 0 0 0;\n",
              "      width: 32px;\n",
              "    }\n",
              "\n",
              "    .colab-df-convert:hover {\n",
              "      background-color: #E2EBFA;\n",
              "      box-shadow: 0px 1px 2px rgba(60, 64, 67, 0.3), 0px 1px 3px 1px rgba(60, 64, 67, 0.15);\n",
              "      fill: #174EA6;\n",
              "    }\n",
              "\n",
              "    .colab-df-buttons div {\n",
              "      margin-bottom: 4px;\n",
              "    }\n",
              "\n",
              "    [theme=dark] .colab-df-convert {\n",
              "      background-color: #3B4455;\n",
              "      fill: #D2E3FC;\n",
              "    }\n",
              "\n",
              "    [theme=dark] .colab-df-convert:hover {\n",
              "      background-color: #434B5C;\n",
              "      box-shadow: 0px 1px 3px 1px rgba(0, 0, 0, 0.15);\n",
              "      filter: drop-shadow(0px 1px 2px rgba(0, 0, 0, 0.3));\n",
              "      fill: #FFFFFF;\n",
              "    }\n",
              "  </style>\n",
              "\n",
              "    <script>\n",
              "      const buttonEl =\n",
              "        document.querySelector('#df-96250646-fc11-404a-989b-23cac4d162e8 button.colab-df-convert');\n",
              "      buttonEl.style.display =\n",
              "        google.colab.kernel.accessAllowed ? 'block' : 'none';\n",
              "\n",
              "      async function convertToInteractive(key) {\n",
              "        const element = document.querySelector('#df-96250646-fc11-404a-989b-23cac4d162e8');\n",
              "        const dataTable =\n",
              "          await google.colab.kernel.invokeFunction('convertToInteractive',\n",
              "                                                    [key], {});\n",
              "        if (!dataTable) return;\n",
              "\n",
              "        const docLinkHtml = 'Like what you see? Visit the ' +\n",
              "          '<a target=\"_blank\" href=https://colab.research.google.com/notebooks/data_table.ipynb>data table notebook</a>'\n",
              "          + ' to learn more about interactive tables.';\n",
              "        element.innerHTML = '';\n",
              "        dataTable['output_type'] = 'display_data';\n",
              "        await google.colab.output.renderOutput(dataTable, element);\n",
              "        const docLink = document.createElement('div');\n",
              "        docLink.innerHTML = docLinkHtml;\n",
              "        element.appendChild(docLink);\n",
              "      }\n",
              "    </script>\n",
              "  </div>\n",
              "\n",
              "\n",
              "    <div id=\"df-320a9f25-fbfb-419a-a8ee-3ae3f0fc7e6a\">\n",
              "      <button class=\"colab-df-quickchart\" onclick=\"quickchart('df-320a9f25-fbfb-419a-a8ee-3ae3f0fc7e6a')\"\n",
              "                title=\"Suggest charts\"\n",
              "                style=\"display:none;\">\n",
              "\n",
              "<svg xmlns=\"http://www.w3.org/2000/svg\" height=\"24px\"viewBox=\"0 0 24 24\"\n",
              "     width=\"24px\">\n",
              "    <g>\n",
              "        <path d=\"M19 3H5c-1.1 0-2 .9-2 2v14c0 1.1.9 2 2 2h14c1.1 0 2-.9 2-2V5c0-1.1-.9-2-2-2zM9 17H7v-7h2v7zm4 0h-2V7h2v10zm4 0h-2v-4h2v4z\"/>\n",
              "    </g>\n",
              "</svg>\n",
              "      </button>\n",
              "\n",
              "<style>\n",
              "  .colab-df-quickchart {\n",
              "      --bg-color: #E8F0FE;\n",
              "      --fill-color: #1967D2;\n",
              "      --hover-bg-color: #E2EBFA;\n",
              "      --hover-fill-color: #174EA6;\n",
              "      --disabled-fill-color: #AAA;\n",
              "      --disabled-bg-color: #DDD;\n",
              "  }\n",
              "\n",
              "  [theme=dark] .colab-df-quickchart {\n",
              "      --bg-color: #3B4455;\n",
              "      --fill-color: #D2E3FC;\n",
              "      --hover-bg-color: #434B5C;\n",
              "      --hover-fill-color: #FFFFFF;\n",
              "      --disabled-bg-color: #3B4455;\n",
              "      --disabled-fill-color: #666;\n",
              "  }\n",
              "\n",
              "  .colab-df-quickchart {\n",
              "    background-color: var(--bg-color);\n",
              "    border: none;\n",
              "    border-radius: 50%;\n",
              "    cursor: pointer;\n",
              "    display: none;\n",
              "    fill: var(--fill-color);\n",
              "    height: 32px;\n",
              "    padding: 0;\n",
              "    width: 32px;\n",
              "  }\n",
              "\n",
              "  .colab-df-quickchart:hover {\n",
              "    background-color: var(--hover-bg-color);\n",
              "    box-shadow: 0 1px 2px rgba(60, 64, 67, 0.3), 0 1px 3px 1px rgba(60, 64, 67, 0.15);\n",
              "    fill: var(--button-hover-fill-color);\n",
              "  }\n",
              "\n",
              "  .colab-df-quickchart-complete:disabled,\n",
              "  .colab-df-quickchart-complete:disabled:hover {\n",
              "    background-color: var(--disabled-bg-color);\n",
              "    fill: var(--disabled-fill-color);\n",
              "    box-shadow: none;\n",
              "  }\n",
              "\n",
              "  .colab-df-spinner {\n",
              "    border: 2px solid var(--fill-color);\n",
              "    border-color: transparent;\n",
              "    border-bottom-color: var(--fill-color);\n",
              "    animation:\n",
              "      spin 1s steps(1) infinite;\n",
              "  }\n",
              "\n",
              "  @keyframes spin {\n",
              "    0% {\n",
              "      border-color: transparent;\n",
              "      border-bottom-color: var(--fill-color);\n",
              "      border-left-color: var(--fill-color);\n",
              "    }\n",
              "    20% {\n",
              "      border-color: transparent;\n",
              "      border-left-color: var(--fill-color);\n",
              "      border-top-color: var(--fill-color);\n",
              "    }\n",
              "    30% {\n",
              "      border-color: transparent;\n",
              "      border-left-color: var(--fill-color);\n",
              "      border-top-color: var(--fill-color);\n",
              "      border-right-color: var(--fill-color);\n",
              "    }\n",
              "    40% {\n",
              "      border-color: transparent;\n",
              "      border-right-color: var(--fill-color);\n",
              "      border-top-color: var(--fill-color);\n",
              "    }\n",
              "    60% {\n",
              "      border-color: transparent;\n",
              "      border-right-color: var(--fill-color);\n",
              "    }\n",
              "    80% {\n",
              "      border-color: transparent;\n",
              "      border-right-color: var(--fill-color);\n",
              "      border-bottom-color: var(--fill-color);\n",
              "    }\n",
              "    90% {\n",
              "      border-color: transparent;\n",
              "      border-bottom-color: var(--fill-color);\n",
              "    }\n",
              "  }\n",
              "</style>\n",
              "\n",
              "      <script>\n",
              "        async function quickchart(key) {\n",
              "          const quickchartButtonEl =\n",
              "            document.querySelector('#' + key + ' button');\n",
              "          quickchartButtonEl.disabled = true;  // To prevent multiple clicks.\n",
              "          quickchartButtonEl.classList.add('colab-df-spinner');\n",
              "          try {\n",
              "            const charts = await google.colab.kernel.invokeFunction(\n",
              "                'suggestCharts', [key], {});\n",
              "          } catch (error) {\n",
              "            console.error('Error during call to suggestCharts:', error);\n",
              "          }\n",
              "          quickchartButtonEl.classList.remove('colab-df-spinner');\n",
              "          quickchartButtonEl.classList.add('colab-df-quickchart-complete');\n",
              "        }\n",
              "        (() => {\n",
              "          let quickchartButtonEl =\n",
              "            document.querySelector('#df-320a9f25-fbfb-419a-a8ee-3ae3f0fc7e6a button');\n",
              "          quickchartButtonEl.style.display =\n",
              "            google.colab.kernel.accessAllowed ? 'block' : 'none';\n",
              "        })();\n",
              "      </script>\n",
              "    </div>\n",
              "    </div>\n",
              "  </div>\n"
            ],
            "text/plain": [
              "          0         1         2         3         4         5         6  \\\n",
              "0  1.037670  1.081484  1.000895  1.034669  1.038680  0.841711  0.835470   \n",
              "1  1.022798  1.051566  0.995250  1.011317  1.020233  0.825000  0.816158   \n",
              "2  1.026721  1.066889  0.999182  1.024820  1.029404  0.836126  0.820326   \n",
              "3  1.018794  1.036963  1.005106  1.004517  1.016346  0.820147  0.799098   \n",
              "4  0.994863  1.080708  1.006653  0.997705  1.019982  0.806740  0.852872   \n",
              "\n",
              "          7         8         9  ...        11        12        13        14  \\\n",
              "0  0.816527  0.831690  0.831350  ...  1.219895  1.157952  1.180791  1.184832   \n",
              "1  0.814067  0.821650  0.819219  ...  1.210596  1.158814  1.172144  1.180965   \n",
              "2  0.816244  0.830463  0.825790  ...  1.217098  1.155497  1.177516  1.182086   \n",
              "3  0.813539  0.811154  0.810985  ...  1.209251  1.170011  1.173177  1.183088   \n",
              "4  0.828562  0.808737  0.824228  ...  1.209706  1.153820  1.164620  1.174054   \n",
              "\n",
              "         15        16        17        18   19           text  \n",
              "0  0.258537  0.248780  0.246341  0.246341  0.0  bigbalaboba_0  \n",
              "1  0.299229  0.246671  0.227050  0.227050  0.0  bigbalaboba_1  \n",
              "2  0.274468  0.257447  0.261702  0.206383  0.0  bigbalaboba_2  \n",
              "3  0.280868  0.271370  0.211443  0.236318  0.0  bigbalaboba_3  \n",
              "4  0.324324  0.162162  0.209459  0.304054  0.0  bigbalaboba_4  \n",
              "\n",
              "[5 rows x 21 columns]"
            ]
          },
          "execution_count": 47,
          "metadata": {},
          "output_type": "execute_result"
        }
      ],
      "source": [
        "check = pd.read_csv('/content/features/RU_bigbalaboba_word_features.csv')\n",
        "check.head()"
      ]
    },
    {
      "cell_type": "code",
      "execution_count": 13,
      "id": "afuvmmzSndwx",
      "metadata": {
        "colab": {
          "base_uri": "https://localhost:8080/"
        },
        "id": "afuvmmzSndwx",
        "outputId": "0d9e4fd6-ffec-4b63-9e79-fa54dbcef3b6"
      },
      "outputs": [
        {
          "output_type": "stream",
          "name": "stdout",
          "text": [
            "2662\n"
          ]
        },
        {
          "output_type": "stream",
          "name": "stderr",
          "text": [
            "Processing words...: 2662it [00:35, 75.95it/s]\n"
          ]
        },
        {
          "output_type": "stream",
          "name": "stdout",
          "text": [
            "Saved at features/RU_biggpt2_syn10_features.csv\n"
          ]
        }
      ],
      "source": [
        "text_type = 'biggpt2'\n",
        "lang = 'RU'\n",
        "hole_emb = '/content/holes/hole_embeddings_by_lifetimes_and_syn_norm.npy'\n",
        "hole_type = 'syn10'\n",
        "\n",
        "with open('/content/drive/MyDrive/classifier/russian_biggpt2_corpus.txt', encoding='utf-8') as f:\n",
        "  texts = f.readlines()\n",
        "\n",
        "print(len(texts))\n",
        "process(texts, ru_model, lang=lang, holes_path=hole_emb, text_type=text_type, hole_type=hole_type)"
      ]
    },
    {
      "cell_type": "code",
      "execution_count": 12,
      "id": "2tqKFyadoRt2",
      "metadata": {
        "colab": {
          "base_uri": "https://localhost:8080/"
        },
        "id": "2tqKFyadoRt2",
        "outputId": "d8275341-409f-4e12-935d-630c7bc4d819"
      },
      "outputs": [
        {
          "output_type": "stream",
          "name": "stdout",
          "text": [
            "994\n"
          ]
        },
        {
          "output_type": "stream",
          "name": "stderr",
          "text": [
            "Processing words...: 994it [00:17, 55.29it/s]"
          ]
        },
        {
          "output_type": "stream",
          "name": "stdout",
          "text": [
            "Saved at features/RU_newlstm_syn10_features.csv\n"
          ]
        },
        {
          "output_type": "stream",
          "name": "stderr",
          "text": [
            "\n"
          ]
        }
      ],
      "source": [
        "text_type = 'newlstm'\n",
        "lang = 'RU'\n",
        "hole_emb = '/content/holes/hole_embeddings_by_lifetimes_and_syn_norm.npy'\n",
        "hole_type = 'syn10'\n",
        "\n",
        "with open('/content/drive/MyDrive/classifier/russian_newlstm_corpus.txt', encoding='utf-8') as f:\n",
        "  texts = f.readlines()\n",
        "\n",
        "print(len(texts))\n",
        "process(texts, ru_model, lang=lang, holes_path=hole_emb, text_type=text_type, hole_type=hole_type)"
      ]
    },
    {
      "cell_type": "markdown",
      "source": [
        "### lit"
      ],
      "metadata": {
        "id": "skS0vpsdEe8y"
      },
      "id": "skS0vpsdEe8y"
    },
    {
      "cell_type": "code",
      "execution_count": 11,
      "id": "mAH-bzk5pNJX",
      "metadata": {
        "colab": {
          "base_uri": "https://localhost:8080/"
        },
        "id": "mAH-bzk5pNJX",
        "outputId": "40175396-70ba-4b5d-b12a-18c3150c53a3"
      },
      "outputs": [
        {
          "output_type": "stream",
          "name": "stdout",
          "text": [
            "6429\n"
          ]
        },
        {
          "output_type": "stream",
          "name": "stderr",
          "text": [
            "Processing words...: 6429it [03:44, 28.66it/s]\n"
          ]
        },
        {
          "output_type": "stream",
          "name": "stdout",
          "text": [
            "Saved at features/RU_lit_syn10_features.csv\n"
          ]
        }
      ],
      "source": [
        "text_type = 'lit'\n",
        "lang = 'RU'\n",
        "hole_emb = '/content/holes/hole_embeddings_by_lifetimes_and_syn_norm.npy'\n",
        "hole_type = 'syn10'\n",
        "\n",
        "with open('/content/drive/MyDrive/classifier/russian_newlit_corpus.txt', encoding='utf-8') as f:\n",
        "  texts = f.readlines()\n",
        "\n",
        "print(len(texts))\n",
        "process(texts, ru_model, lang=lang, holes_path=hole_emb, text_type=text_type, hole_type=hole_type)"
      ]
    }
  ],
  "metadata": {
    "colab": {
      "provenance": []
    },
    "kernelspec": {
      "display_name": "Python 3 (ipykernel)",
      "language": "python",
      "name": "python3"
    },
    "language_info": {
      "codemirror_mode": {
        "name": "ipython",
        "version": 3
      },
      "file_extension": ".py",
      "mimetype": "text/x-python",
      "name": "python",
      "nbconvert_exporter": "python",
      "pygments_lexer": "ipython3",
      "version": "3.9.9"
    }
  },
  "nbformat": 4,
  "nbformat_minor": 5
}