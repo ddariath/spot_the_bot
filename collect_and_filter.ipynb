{
  "cells": [
    {
      "cell_type": "markdown",
      "source": [
        "## Извлекаем дыры из сабсетов\n",
        "\n",
        "\n",
        "*   все результаты работы ripserer'а (h0_\\*.npy, h1_\\*.npy, ru_word_holes_\\*.npy) в папке holes\n",
        "*   в результате получаем результаты фильтрации: индексы дыр внутри сабсета, соответсвующие условиям фильтрации (by diameter/lifetime/syn)\n",
        "*   чтобы вывести слова на контуре - загружаем файлы ru_word_partition и словарь эмбеддингов\n",
        "\n"
      ],
      "metadata": {
        "id": "R_FTjMFNT_4h"
      },
      "id": "R_FTjMFNT_4h"
    },
    {
      "cell_type": "code",
      "execution_count": 1,
      "id": "a020abff-1ff0-4c8d-8a73-4098b8887245",
      "metadata": {
        "id": "a020abff-1ff0-4c8d-8a73-4098b8887245"
      },
      "outputs": [],
      "source": [
        "import numpy as np\n",
        "import matplotlib.pyplot as plt\n",
        "import seaborn as sns\n",
        "sns.set_style('whitegrid')\n",
        "from tqdm.auto import tqdm, trange"
      ]
    },
    {
      "cell_type": "markdown",
      "id": "709378f8-e085-4ac5-b8e1-0555354d1c7d",
      "metadata": {
        "id": "709378f8-e085-4ac5-b8e1-0555354d1c7d"
      },
      "source": [
        "## Извлекаем дыры"
      ]
    },
    {
      "cell_type": "code",
      "execution_count": 11,
      "id": "IA0MiFdCKF3y",
      "metadata": {
        "id": "IA0MiFdCKF3y"
      },
      "outputs": [],
      "source": [
        "def get_cycles(cycles):\n",
        "    \"\"\"\n",
        "        спиок ребер -> циклы\n",
        "    \"\"\"\n",
        "    new_cycle_flag = True\n",
        "    cycles_list = []\n",
        "    cur_cycle = set()\n",
        "    for a, b in cycles:\n",
        "        if new_cycle_flag:\n",
        "            cur_cycle.update([a])\n",
        "            cur_cycle.update([b])\n",
        "            cycles_list.append([])\n",
        "            new_cycle_flag = False\n",
        "            continue\n",
        "        if a in cur_cycle:\n",
        "            cur_cycle.remove(a)\n",
        "            cycles_list[-1].append(a)\n",
        "        else:\n",
        "            cur_cycle.update([a])\n",
        "        if b in cur_cycle:\n",
        "            cur_cycle.remove(b)\n",
        "            cycles_list[-1].append(b)\n",
        "        else:\n",
        "            cur_cycle.update([b])\n",
        "        if len(cur_cycle) == 0:\n",
        "            new_cycle_flag = True\n",
        "    return cycles_list"
      ]
    },
    {
      "cell_type": "code",
      "execution_count": 10,
      "id": "dae297cb-6a7d-4639-8e02-f6fb9bcc0ac7",
      "metadata": {
        "id": "dae297cb-6a7d-4639-8e02-f6fb9bcc0ac7"
      },
      "outputs": [],
      "source": [
        "import glob\n",
        "def get_holes_per_chunk(dir=\"holes/\", filenames=\"ru_word_holes_norm_km5_*.npy\"):\n",
        "    '''\n",
        "      извлекаем из отдельного чанка\n",
        "    '''\n",
        "    hole_contours = {}\n",
        "    for file in glob.glob(f\"{dir}/{filenames}\"):\n",
        "        hole_contours[\"_\".join(file.split('_')[5:])[:-4]] = get_cycles(np.load(file) - 1) # !attention to filenames!\n",
        "    return hole_contours"
      ]
    },
    {
      "cell_type": "code",
      "execution_count": 9,
      "id": "f2594c85-c02c-43ea-84c5-6bc0a1d380e0",
      "metadata": {
        "id": "f2594c85-c02c-43ea-84c5-6bc0a1d380e0"
      },
      "outputs": [],
      "source": [
        "import glob\n",
        "def collect_holes_from_chunks(dir=\"holes/\"):\n",
        "    '''\n",
        "      извлекаем из вссех чанков\n",
        "    '''\n",
        "    def get_homology_birth_death(files):\n",
        "        h_bd = {}\n",
        "        for fn in files:\n",
        "            chunk_num = \"_\".join(fn.split('_')[3:])[:-4] # !attention to filenames!\n",
        "            h_bd[chunk_num] = np.load(fn)\n",
        "        h_all = np.hstack(list(h_bd.values()))\n",
        "        h_lifetimes = np.diff(h_all, axis=0)\n",
        "        return h_all, h_lifetimes, h_bd\n",
        "\n",
        "    h0_all, h0_lifetimes, h0_bd = get_homology_birth_death(glob.glob(f\"{dir}/h0_norm_km5_*.npy\"))\n",
        "    h1_all, h1_lifetimes, h1_bd = get_homology_birth_death(glob.glob(f\"{dir}/h1_norm_km5_*.npy\"))\n",
        "    plt.scatter(*h0_all, s=.5, label='$H_0$');\n",
        "    plt.scatter(*h1_all, s=.5, label='$H_1$');\n",
        "    plt.legend();\n",
        "    plt.xlabel('birth')\n",
        "    plt.ylabel('death')\n",
        "    plt.show()\n",
        "    return (h0_all, h0_lifetimes, h0_bd), (h1_all, h1_lifetimes, h1_bd)"
      ]
    },
    {
      "cell_type": "markdown",
      "id": "67cefd09-7af1-4d93-9ba2-e956ba1a2db6",
      "metadata": {
        "id": "67cefd09-7af1-4d93-9ba2-e956ba1a2db6"
      },
      "source": [
        "## Вычисляем диаметры"
      ]
    },
    {
      "cell_type": "code",
      "execution_count": 2,
      "id": "9f651b20-068f-4364-95dc-5203875efc1d",
      "metadata": {
        "id": "9f651b20-068f-4364-95dc-5203875efc1d"
      },
      "outputs": [],
      "source": [
        "from scipy.spatial.distance import pdist, squareform\n",
        "\n",
        "def get_hole_diam(filtered_by_lifetime, h1_contours, lang='ru', part='word'):\n",
        "    '''\n",
        "      диаметры дыр для чанков, в которых есть дыры, прошедшие фильтрацию по lifetime\n",
        "    '''\n",
        "    hole_diam = {}\n",
        "    for n_chunk in tqdm(filtered_by_lifetime):\n",
        "        if filtered_by_lifetime[n_chunk] == -1: continue\n",
        "        hole_diam[n_chunk] = []\n",
        "\n",
        "        chunk_emb = np.load(f'holes/{lang}_{part}_norm_5_{n_chunk}.npy') # !attention to filenames!\n",
        "\n",
        "        chunk_pdist = squareform(pdist(chunk_emb, metric='cosine'))\n",
        "        cycles_list = h1_contours[n_chunk][filtered_by_lifetime[n_chunk]:] # list of cycles of holes, filtered by lifetime (in one chunk)\n",
        "        for edges in cycles_list:\n",
        "            hole_diam[n_chunk].append(chunk_pdist[edges][:,edges].max())\n",
        "    return hole_diam"
      ]
    },
    {
      "cell_type": "markdown",
      "id": "92fe89fb-e177-44c8-b0cb-b22079b6a74d",
      "metadata": {
        "id": "92fe89fb-e177-44c8-b0cb-b22079b6a74d"
      },
      "source": [
        "## Фильтры"
      ]
    },
    {
      "cell_type": "code",
      "execution_count": null,
      "id": "308a54b9-2c11-45a4-aced-27130c8cf5e3",
      "metadata": {
        "id": "308a54b9-2c11-45a4-aced-27130c8cf5e3"
      },
      "outputs": [],
      "source": [
        "# save first indices beginning from which holes are more persistent\n",
        "def filter_by_lifetimes(h1_lifetimes, h1_bd, h1_contours, q=.99):\n",
        "    q = np.quantile(h1_lifetimes, q=.99)\n",
        "    filtered_by_lifetime = {}\n",
        "    for n_chunk in h1_bd:\n",
        "        if n_chunk not in h1_contours: continue\n",
        "        chunk_n_holes = len(h1_contours[n_chunk])\n",
        "        idx = np.where(np.diff(h1_bd[n_chunk], axis=0)[0][-chunk_n_holes:] > q)[0]\n",
        "        filtered_by_lifetime[n_chunk] = idx[0] if len(idx) else -1\n",
        "    return filtered_by_lifetime"
      ]
    },
    {
      "cell_type": "code",
      "execution_count": null,
      "id": "lwAVvVfDabO3",
      "metadata": {
        "id": "lwAVvVfDabO3"
      },
      "outputs": [],
      "source": [
        "def filter_by_syn(hole_diam, filtered_by_lifetime, threshold=1.3):\n",
        "    filtered_by_syn = {}\n",
        "    for n_chunk in hole_diam:\n",
        "        a = np.where(np.array(hole_diam[n_chunk]) > threshold)[0]\n",
        "        if len(a):\n",
        "            filtered_by_syn[n_chunk] = a + filtered_by_lifetime[n_chunk] # index of hole in cycles list\n",
        "    return filtered_by_syn"
      ]
    },
    {
      "cell_type": "code",
      "execution_count": null,
      "id": "6880e382-52b7-4422-bff8-11dc3edb93ce",
      "metadata": {
        "id": "6880e382-52b7-4422-bff8-11dc3edb93ce"
      },
      "outputs": [],
      "source": [
        "def filter_by_hole_diam(hole_diam, filtered_by_lifetime, q=.99):\n",
        "    q_ = np.quantile(np.hstack(list(hole_diam.values())), q=q)\n",
        "    filtered_by_hole_diam = {}\n",
        "    for n_chunk in hole_diam:\n",
        "        idx = np.where(hole_diam[n_chunk] > q_)[0]\n",
        "        if len(idx):\n",
        "            filtered_by_hole_diam[n_chunk] = idx + filtered_by_lifetime[n_chunk]\n",
        "    return filtered_by_hole_diam"
      ]
    },
    {
      "cell_type": "markdown",
      "id": "2c20fbbc-145c-41d1-aa97-2d856894782d",
      "metadata": {
        "id": "2c20fbbc-145c-41d1-aa97-2d856894782d"
      },
      "source": [
        "## Обработка данных"
      ]
    },
    {
      "cell_type": "code",
      "execution_count": null,
      "id": "1c508b32-9224-45f6-9a54-3f1e1e1279f9",
      "metadata": {
        "id": "1c508b32-9224-45f6-9a54-3f1e1e1279f9"
      },
      "outputs": [],
      "source": [
        "# контуры из всех кластеров\n",
        "h1_contours = get_holes_per_chunk(\"holes/\", \"ru_word_holes_norm_km5_*.npy\")"
      ]
    },
    {
      "cell_type": "code",
      "execution_count": null,
      "id": "24606f2c-fcfd-4e53-97ab-b11e9b0523ff",
      "metadata": {
        "colab": {
          "base_uri": "https://localhost:8080/"
        },
        "id": "24606f2c-fcfd-4e53-97ab-b11e9b0523ff",
        "outputId": "24e635d2-cf3d-478c-dc68-76c6ef80d2fe"
      },
      "outputs": [
        {
          "output_type": "stream",
          "name": "stdout",
          "text": [
            "[('2', 500), ('0', 500), ('1', 500), ('4', 500), ('3', 500)]\n"
          ]
        }
      ],
      "source": [
        "# в ripserer были отобраны 500 самых персистентных циклов\n",
        "print([(cn, len(h1_contours[cn]))for cn in h1_contours])"
      ]
    },
    {
      "cell_type": "code",
      "execution_count": null,
      "id": "2541a632-6adb-4b29-b814-ae2106351358",
      "metadata": {
        "colab": {
          "base_uri": "https://localhost:8080/",
          "height": 449
        },
        "id": "2541a632-6adb-4b29-b814-ae2106351358",
        "outputId": "794b8b32-c0e7-4381-d894-4f7e0544a3de"
      },
      "outputs": [
        {
          "output_type": "display_data",
          "data": {
            "text/plain": [
              "<Figure size 640x480 with 1 Axes>"
            ],
            "image/png": "[encoded data removed]"
          },
          "metadata": {}
        }
      ],
      "source": [
        "# собираем все вместе\n",
        "(h0_all, h0_lifetimes, h0_bd), (h1_all, h1_lifetimes, h1_bd) = collect_holes_from_chunks(\"holes/\")"
      ]
    },
    {
      "cell_type": "code",
      "execution_count": null,
      "id": "4578a32b-ffe0-474a-97ac-86d0ffd27309",
      "metadata": {
        "colab": {
          "base_uri": "https://localhost:8080/"
        },
        "id": "4578a32b-ffe0-474a-97ac-86d0ffd27309",
        "outputId": "db5a0194-e9de-4dac-f985-7ebcd0bac854"
      },
      "outputs": [
        {
          "output_type": "execute_result",
          "data": {
            "text/plain": [
              "(2, 151752)"
            ]
          },
          "metadata": {},
          "execution_count": 13
        }
      ],
      "source": [
        "h1_all.shape # все дыры"
      ]
    },
    {
      "cell_type": "code",
      "execution_count": null,
      "id": "A09yesiHT7p_",
      "metadata": {
        "colab": {
          "base_uri": "https://localhost:8080/"
        },
        "id": "A09yesiHT7p_",
        "outputId": "9bdf24ff-782e-43c8-c628-d566772f16d9"
      },
      "outputs": [
        {
          "output_type": "execute_result",
          "data": {
            "text/plain": [
              "(2, 72111)"
            ]
          },
          "metadata": {},
          "execution_count": 14
        }
      ],
      "source": [
        "h0_all.shape # все точки (слова)"
      ]
    },
    {
      "cell_type": "markdown",
      "id": "bc1ab634-73a9-4939-8fed-6a551877b9af",
      "metadata": {
        "id": "bc1ab634-73a9-4939-8fed-6a551877b9af"
      },
      "source": [
        "### by lifetime"
      ]
    },
    {
      "cell_type": "code",
      "execution_count": null,
      "id": "a92d9102-4246-4f16-a4bd-415ef05ac3e9",
      "metadata": {
        "colab": {
          "base_uri": "https://localhost:8080/"
        },
        "id": "a92d9102-4246-4f16-a4bd-415ef05ac3e9",
        "outputId": "5994ed0f-0e62-4d2c-b5e1-29b2ad3ac0dd"
      },
      "outputs": [
        {
          "output_type": "execute_result",
          "data": {
            "text/plain": [
              "{'4': -1,\n",
              " '2': np.int64(389),\n",
              " '1': np.int64(418),\n",
              " '0': np.int64(0),\n",
              " '3': np.int64(460)}"
            ]
          },
          "metadata": {},
          "execution_count": 15
        }
      ],
      "source": [
        "filtered_by_lifetime = filter_by_lifetimes(h1_lifetimes, h1_bd, h1_contours)\n",
        "\n",
        "filtered_by_lifetime"
      ]
    },
    {
      "cell_type": "code",
      "execution_count": null,
      "id": "6ee041ca-3dc6-40b1-8f9b-34f6cc74e805",
      "metadata": {
        "id": "6ee041ca-3dc6-40b1-8f9b-34f6cc74e805"
      },
      "outputs": [],
      "source": [
        "np.save(\"holes/filtered_by_lifetimes_norm_km5.npy\", filtered_by_lifetime)"
      ]
    },
    {
      "cell_type": "code",
      "source": [
        "filtered_by_lifetime = np.load(\"holes/filtered_by_lifetimes_norm_km5.npy\", allow_pickle=True).item()"
      ],
      "metadata": {
        "id": "iSzMg-CBZK68"
      },
      "id": "iSzMg-CBZK68",
      "execution_count": 17,
      "outputs": []
    },
    {
      "cell_type": "markdown",
      "id": "fd7528b4-f173-43fe-9ee5-9b5836f64536",
      "metadata": {
        "id": "fd7528b4-f173-43fe-9ee5-9b5836f64536"
      },
      "source": [
        "### hole diams"
      ]
    },
    {
      "cell_type": "code",
      "execution_count": null,
      "id": "728c7f9f-4c94-4f6b-b589-ef4d26129b88",
      "metadata": {
        "colab": {
          "base_uri": "https://localhost:8080/",
          "height": 49,
          "referenced_widgets": [
            "362331cb6a1e4dbeaeda8d8609549d45",
            "047d4496257949efba1a10077184f92c",
            "dfe9beccc2674e64be5ba05faa934ce1",
            "4bb9e81d8f8447d8909dd916bd94e725",
            "be1f3eaffc0c4f7a81de41e11a9eed5d",
            "f07504498fab47ebba896a7a9dedae88",
            "da67bd2ecbe34524937f6bacc93fb178",
            "cf7cb3e439654a3e95fa565b8a4d2107",
            "c53bae96bb8844d6a4b5891cd430778c",
            "befcbabfa4ba4adfb74e9f0e6de6fb1d",
            "fcb620e792d542ab9992f76dde92e27a"
          ]
        },
        "id": "728c7f9f-4c94-4f6b-b589-ef4d26129b88",
        "outputId": "881bf748-907f-4c00-ea5d-7e714e1f264e"
      },
      "outputs": [
        {
          "output_type": "display_data",
          "data": {
            "text/plain": [
              "  0%|          | 0/5 [00:00<?, ?it/s]"
            ],
            "application/vnd.jupyter.widget-view+json": {
              "version_major": 2,
              "version_minor": 0,
              "model_id": "362331cb6a1e4dbeaeda8d8609549d45"
            }
          },
          "metadata": {}
        }
      ],
      "source": [
        "hole_diam = get_hole_diam(filtered_by_lifetime, h1_contours, lang='ru', part='word')"
      ]
    },
    {
      "cell_type": "code",
      "execution_count": 20,
      "id": "425928a3-e2c5-4953-8581-9a5e40cbdda3",
      "metadata": {
        "id": "425928a3-e2c5-4953-8581-9a5e40cbdda3"
      },
      "outputs": [],
      "source": [
        "np.save(\"holes/hole_diams_norm_km5.npy\", hole_diam)"
      ]
    },
    {
      "cell_type": "markdown",
      "id": "aa3e2649-e38f-4bd5-a040-eb37b181d2e6",
      "metadata": {
        "id": "aa3e2649-e38f-4bd5-a040-eb37b181d2e6"
      },
      "source": [
        "### by synonyms"
      ]
    },
    {
      "cell_type": "code",
      "execution_count": null,
      "id": "43aa533d-30fa-4fa2-aed6-cfce10fe057f",
      "metadata": {
        "id": "43aa533d-30fa-4fa2-aed6-cfce10fe057f"
      },
      "outputs": [],
      "source": [
        "hole_diam = np.load(\"holes/hole_diams.npy\", allow_pickle=True).item()"
      ]
    },
    {
      "cell_type": "code",
      "execution_count": null,
      "id": "a26b524d-7383-4797-b498-626f2315839a",
      "metadata": {
        "id": "a26b524d-7383-4797-b498-626f2315839a"
      },
      "outputs": [],
      "source": [
        "filtered_by_syn = filter_by_syn(hole_diam, filtered_by_lifetime, 1.3)"
      ]
    },
    {
      "cell_type": "code",
      "execution_count": null,
      "id": "d9324c2f-7342-4720-9da6-6bd14826b529",
      "metadata": {
        "colab": {
          "base_uri": "https://localhost:8080/"
        },
        "id": "d9324c2f-7342-4720-9da6-6bd14826b529",
        "outputId": "896c1cc1-f8dd-4fd5-cd56-afce22b69a3f"
      },
      "outputs": [
        {
          "output_type": "execute_result",
          "data": {
            "text/plain": [
              "{'0': array([403, 437])}"
            ]
          },
          "metadata": {},
          "execution_count": 21
        }
      ],
      "source": [
        "filtered_by_syn"
      ]
    },
    {
      "cell_type": "code",
      "execution_count": null,
      "id": "77d54a79-2203-4438-bd64-32112bd6066c",
      "metadata": {
        "id": "77d54a79-2203-4438-bd64-32112bd6066c"
      },
      "outputs": [],
      "source": [
        "np.save(\"holes/filtered_by_lifetimes_and_syn_norm_km5.npy\", filtered_by_syn)"
      ]
    },
    {
      "cell_type": "markdown",
      "id": "d5c3558b-0b88-488f-9805-de3013467e95",
      "metadata": {
        "id": "d5c3558b-0b88-488f-9805-de3013467e95"
      },
      "source": [
        "### by hole diam"
      ]
    },
    {
      "cell_type": "code",
      "execution_count": null,
      "id": "d991ef14-e042-4735-b125-5ce64583f3a1",
      "metadata": {
        "colab": {
          "base_uri": "https://localhost:8080/"
        },
        "id": "d991ef14-e042-4735-b125-5ce64583f3a1",
        "outputId": "a27d0e3c-5e57-44fc-f270-b9430e7d19d2"
      },
      "outputs": [
        {
          "output_type": "execute_result",
          "data": {
            "text/plain": [
              "{'3': array([281, 389, 403, 443, 463, 499])}"
            ]
          },
          "metadata": {},
          "execution_count": 53
        }
      ],
      "source": [
        "# для данных, полученных из 10 кластеров\n",
        "# filtered_by_hole_diam = filter_by_hole_diam(hole_diam, filtered_by_lifetime, q=.995)\n",
        "# filtered_by_hole_diam"
      ]
    },
    {
      "cell_type": "code",
      "source": [
        "filtered_by_hole_diam_km5 = filter_by_hole_diam(hole_diam, filtered_by_lifetime, q=.99)\n",
        "filtered_by_hole_diam_km5"
      ],
      "metadata": {
        "colab": {
          "base_uri": "https://localhost:8080/"
        },
        "id": "OdWyCldlugdx",
        "outputId": "2da279dc-8be2-41db-b06c-30ee45fce10d"
      },
      "id": "OdWyCldlugdx",
      "execution_count": null,
      "outputs": [
        {
          "output_type": "execute_result",
          "data": {
            "text/plain": [
              "{'0': array([237, 375, 403, 426, 437, 470, 477, 486])}"
            ]
          },
          "metadata": {},
          "execution_count": 24
        }
      ]
    },
    {
      "cell_type": "code",
      "source": [
        "filtered_by_hole_diam_km5 = filter_by_hole_diam(hole_diam, filtered_by_lifetime, q=.995)\n",
        "filtered_by_hole_diam_km5"
      ],
      "metadata": {
        "colab": {
          "base_uri": "https://localhost:8080/"
        },
        "id": "VrCXVB9BwHpf",
        "outputId": "ccba7861-e0a9-4255-a35c-285d3d3b42b2"
      },
      "id": "VrCXVB9BwHpf",
      "execution_count": null,
      "outputs": [
        {
          "output_type": "execute_result",
          "data": {
            "text/plain": [
              "{'0': array([403, 437, 477, 486])}"
            ]
          },
          "metadata": {},
          "execution_count": 31
        }
      ]
    },
    {
      "cell_type": "code",
      "execution_count": null,
      "id": "44ca2543-45b6-4195-b4f0-4b8fe82df435",
      "metadata": {
        "id": "44ca2543-45b6-4195-b4f0-4b8fe82df435"
      },
      "outputs": [],
      "source": [
        "np.save(\"holes/filtered_by_lifetimes_and_hole_diam_norm_km5_995.npy\", filtered_by_hole_diam_km5)"
      ]
    },
    {
      "cell_type": "markdown",
      "id": "0dd62b7f-4eb5-4442-ba14-42275fe0d91a",
      "metadata": {
        "id": "0dd62b7f-4eb5-4442-ba14-42275fe0d91a"
      },
      "source": [
        "## Слова на границе"
      ]
    },
    {
      "cell_type": "code",
      "execution_count": null,
      "id": "82fbd85d-0fbd-424d-a23a-7cbc293bf897",
      "metadata": {
        "id": "82fbd85d-0fbd-424d-a23a-7cbc293bf897"
      },
      "outputs": [],
      "source": [
        "# для km=10\n",
        "# word_dictionary = np.load(\"ru_cbow_normalized_dict.npy\", allow_pickle=True).item()\n",
        "# words = list(word_dictionary.keys())\n",
        "# word_partition = np.load('ru_word_partition_norm.npy')"
      ]
    },
    {
      "cell_type": "code",
      "source": [
        "word_dictionary = np.load(\"ru_cbow_normalized_dict.npy\", allow_pickle=True).item()\n",
        "words = list(word_dictionary.keys())\n",
        "word_partition = np.load('ru_word_partition_norm_5.npy')"
      ],
      "metadata": {
        "id": "LBpmenXGvQuq"
      },
      "id": "LBpmenXGvQuq",
      "execution_count": null,
      "outputs": []
    },
    {
      "cell_type": "code",
      "source": [
        "def words_on_contour(filtered_holes, words=words, word_partition=word_partition):\n",
        "  for c in filtered_holes:\n",
        "    cluster_idx = np.where(word_partition == c)[0]\n",
        "    print(f\"\\nCluster {c}:\")\n",
        "    print('*' * 20)\n",
        "\n",
        "    if len(cluster_idx) == 0:\n",
        "        print(f\"No words found in cluster {c}\")\n",
        "        continue\n",
        "\n",
        "    for hole_num in filtered_holes[c]:\n",
        "        try:\n",
        "            contour_indices = h1_contours[c][hole_num]\n",
        "\n",
        "            if isinstance(contour_indices, (list, np.ndarray)):\n",
        "                words_in_hole = []\n",
        "                for idx in contour_indices:\n",
        "                    if 0 <= idx < len(cluster_idx):\n",
        "                        word = words[cluster_idx[idx]]\n",
        "                        words_in_hole.append(word.tolist() if hasattr(word, 'tolist') else word)\n",
        "                    else:\n",
        "                        print(f\"Index {idx} out of bounds for cluster {c}\")\n",
        "                print(f\"Hole {hole_num}: {words_in_hole}\")\n",
        "            else:\n",
        "                if 0 <= contour_indices < len(cluster_idx):\n",
        "                    word = words[cluster_idx[contour_indices]]\n",
        "                    print(f\"Hole {hole_num}: {word.tolist() if hasattr(word, 'tolist') else word}\")\n",
        "                else:\n",
        "                    print(f\"Index {contour_indices} out of bounds for cluster {c}\")\n",
        "\n",
        "        except Exception as e:\n",
        "            print(f\"Error processing hole {hole_num} in cluster {c}: {str(e)}\")"
      ],
      "metadata": {
        "id": "0IcQAfX09pv1"
      },
      "id": "0IcQAfX09pv1",
      "execution_count": null,
      "outputs": []
    },
    {
      "cell_type": "code",
      "source": [
        "words_on_contour(filtered_by_hole_diam_km5) # q=.99"
      ],
      "metadata": {
        "colab": {
          "base_uri": "https://localhost:8080/"
        },
        "id": "oI-uLL8B-e0h",
        "outputId": "6a23849e-e5f3-4a3c-cff1-2e4fb0c1760f"
      },
      "id": "oI-uLL8B-e0h",
      "execution_count": null,
      "outputs": [
        {
          "output_type": "stream",
          "name": "stdout",
          "text": [
            "\n",
            "Cluster 0:\n",
            "********************\n",
            "Hole 237: ['тьма', 'мгла', 'пелена', 'завеса', 'полог', 'занавеска', 'ширма', 'будуар', 'гостиная', 'горница', 'хата', 'заимка', 'тайга', 'болото', 'трясина', 'пропасть', 'бездна']\n",
            "Hole 375: ['непроглядный', 'сгущаться', 'рассеиваться', 'заволакивать', 'застил', 'застить', 'увлажняться', 'воспалять', 'опухать', 'посинеть', 'окоченевать', 'коченеть', 'продрогнуть', 'отогреваться', 'погреться', 'обогреваться', 'соснуть', 'часок', 'часик', 'час', 'день', 'вечер', 'суббота', 'пятница', 'субботний', 'будний', 'погожий', 'ненастный', 'безлунный']\n",
            "Hole 403: ['проучивать', 'припугивать', 'прирезывать', 'прирезать', 'загрызать', 'укусить', 'цапнуть', 'вцепляться', 'сжимать', 'сжиматься', 'защемлять', 'щемить', 'щемящий', 'сосущий', 'глодать', 'снедать', 'пересиливать', 'побороть', 'совладать', 'утихомиривать', 'угомонять', 'приструнивать']\n",
            "Hole 426: ['накануне', 'сегодня', 'назавтра', 'ввечеру', 'вечор', 'жисть', 'неужто', 'неужели', 'думать', 'знать', 'помнить', 'вспомнить', 'вспоминаться', 'запоминаться', 'памятный', 'злополучный']\n",
            "Hole 437: ['холодильник', 'пицца', 'пирожок', 'дожевывать', 'откусывать', 'отгрызать', 'цапнуть', 'отпихивать', 'отпрыгивать', 'рвануться', 'ринуться', 'помчаться', 'ускакивать', 'пришпоривать', 'седлать', 'расседлывать', 'мул', 'двуколка', 'пролетка', 'кабриолет', 'джип', 'гараж', 'подъезд', 'крыльцо', 'веранда', 'балкон', 'лоджия', 'кладовка']\n",
            "Hole 470: ['хилый', 'тщедушный', 'щуплый', 'субтильный', 'простоватый', 'добродушный', 'приветливый', 'доброжелательный', 'ироничный', 'скептический', 'неодобрительный', 'возмущенный', 'протестующий', 'надрывный', 'многоголосый', 'оглушительный', 'оглушающий', 'звенящий', 'звенеть', 'зазвенеть', 'громыхнуть', 'загрохотать', 'застучать', 'заколотиться', 'защемлять', 'заныть', 'ныть', 'ломить', 'болеть', 'заболеть', 'заболевать', 'захворать', 'хворый', 'немощный']\n",
            "Hole 477: ['расческа', 'сумочка', 'бумажник', 'двугривенный', 'тятенька', 'покойница', 'покойник', 'мертвец', 'призрак', 'двойник', 'отражение', 'зеркальце', 'зеркало']\n",
            "Hole 486: ['запястье', 'предплечье', 'ягодица', 'попка', 'киска', 'котик', 'кот', 'псина', 'зверюга', 'вурдалак', 'упырь', 'нежить', 'демон', 'колдун', 'колдовство', 'волшба', 'заклятие', 'амулет', 'кулон', 'браслет']\n"
          ]
        }
      ]
    },
    {
      "cell_type": "markdown",
      "source": [
        "### Другие квантили"
      ],
      "metadata": {
        "id": "RvNawy-l8Iex"
      },
      "id": "RvNawy-l8Iex"
    },
    {
      "cell_type": "code",
      "source": [
        "filtered_by_lifetime = filter_by_lifetimes(h1_lifetimes, h1_bd, h1_contours, q = .98)\n",
        "\n",
        "filtered_by_lifetime"
      ],
      "metadata": {
        "colab": {
          "base_uri": "https://localhost:8080/"
        },
        "id": "R9Vns3ui8IKn",
        "outputId": "b3d30cae-f327-4fdd-e0a0-361c4a4eaf01"
      },
      "id": "R9Vns3ui8IKn",
      "execution_count": null,
      "outputs": [
        {
          "output_type": "execute_result",
          "data": {
            "text/plain": [
              "{'4': np.int64(401),\n",
              " '8': -1,\n",
              " '1': np.int64(453),\n",
              " '3': np.int64(0),\n",
              " '5': -1,\n",
              " '6': np.int64(455),\n",
              " '9': np.int64(463),\n",
              " '2': np.int64(445),\n",
              " '0': np.int64(217),\n",
              " '7': np.int64(491)}"
            ]
          },
          "metadata": {},
          "execution_count": 63
        }
      ]
    },
    {
      "cell_type": "code",
      "source": [
        "hole_diam = get_hole_diam(filtered_by_lifetime, h1_contours, lang='ru', part='word')"
      ],
      "metadata": {
        "colab": {
          "base_uri": "https://localhost:8080/",
          "height": 49,
          "referenced_widgets": [
            "88046d08b86a4d498b5d265d2748f0b6",
            "5b4e0510b43d4d298051abbfd042d306",
            "6e827c442052470181de44188c532b77",
            "f8ee2573aadc42ef8e4e09d6f1a79231",
            "3bd4866f497340899e356aedee8cdfd2",
            "95cc7ddf4fc84c31b33d85d031846347",
            "8017842651644b998fbb3da782dacc5c",
            "4630ca8bf39248219a0d87af09904cf5",
            "c79ca7a99f294646a88817758b4daf8b",
            "73260d0da12b4239a09781ff43a79c83",
            "bc8dd17ab11f4ed7889366e3e18b2813"
          ]
        },
        "id": "h-AUuimR8Xd8",
        "outputId": "5d9cb655-86eb-46a8-d14b-24d4d25356d8"
      },
      "id": "h-AUuimR8Xd8",
      "execution_count": null,
      "outputs": [
        {
          "output_type": "display_data",
          "data": {
            "text/plain": [
              "  0%|          | 0/10 [00:00<?, ?it/s]"
            ],
            "application/vnd.jupyter.widget-view+json": {
              "version_major": 2,
              "version_minor": 0,
              "model_id": "88046d08b86a4d498b5d265d2748f0b6"
            }
          },
          "metadata": {}
        }
      ]
    },
    {
      "cell_type": "code",
      "source": [
        "filtered_by_syn = filter_by_syn(hole_diam, filtered_by_lifetime, 1.15)\n",
        "filtered_by_syn"
      ],
      "metadata": {
        "colab": {
          "base_uri": "https://localhost:8080/"
        },
        "id": "ic-rn8nl8dz6",
        "outputId": "1beafb78-9820-4259-c9b0-ea5ba22e3ccb"
      },
      "id": "ic-rn8nl8dz6",
      "execution_count": null,
      "outputs": [
        {
          "output_type": "execute_result",
          "data": {
            "text/plain": [
              "{'3': array([ 21,  62, 102, 231, 281, 384, 389, 403, 405, 416, 417, 429, 434,\n",
              "        443, 445, 458, 463, 474, 476, 484, 487, 492, 499]),\n",
              " '0': array([243, 475])}"
            ]
          },
          "metadata": {},
          "execution_count": 73
        }
      ]
    },
    {
      "cell_type": "code",
      "source": [
        "filtered_by_hole_diam = filter_by_hole_diam(hole_diam, filtered_by_lifetime, q=.98)\n",
        "filtered_by_hole_diam"
      ],
      "metadata": {
        "colab": {
          "base_uri": "https://localhost:8080/"
        },
        "id": "MzZFc0429LOA",
        "outputId": "47633274-c948-466d-9fb7-2f83320d9ac7"
      },
      "id": "MzZFc0429LOA",
      "execution_count": null,
      "outputs": [
        {
          "output_type": "execute_result",
          "data": {
            "text/plain": [
              "{'3': array([ 21, 231, 281, 384, 389, 403, 405, 416, 417, 429, 434, 443, 445,\n",
              "        458, 463, 474, 476, 484, 487, 492, 499]),\n",
              " '0': array([243])}"
            ]
          },
          "metadata": {},
          "execution_count": 75
        }
      ]
    },
    {
      "cell_type": "code",
      "source": [
        "words_on_contour(filtered_by_syn)"
      ],
      "metadata": {
        "colab": {
          "base_uri": "https://localhost:8080/"
        },
        "id": "BPVBVWdC9nUP",
        "outputId": "1a1c1b88-79bf-4c00-cce7-7e529095dd24"
      },
      "id": "BPVBVWdC9nUP",
      "execution_count": null,
      "outputs": [
        {
          "output_type": "stream",
          "name": "stdout",
          "text": [
            "\n",
            "Cluster 3:\n",
            "********************\n",
            "Hole 21: ['директор', 'викторович', 'здравствовать', 'широкодонный', 'кочедыжник', 'добор', 'вальцовочный']\n",
            "Hole 62: ['фотограф', 'режиссер', 'актриса', 'певица', 'скрипка', 'фортепиано', 'шахматы', 'бейсбол', 'футбол', 'футболист', 'мачо', 'красотка', 'девица', 'особа', 'леди', 'компаньонка', 'помощница', 'сотрудница', 'репортер', 'журналистка']\n",
            "Hole 102: ['осеменять', 'отходиться', 'полотерный', 'теодицея', 'риторический', 'бестактный', 'безответственный', 'алкоголик']\n",
            "Hole 231: ['присутствующий', 'присутствовать', 'состояться', 'обручение', 'обручать', 'незаконнорожденный', 'чистокровный', 'необученный', 'семеро', 'четверо', 'остальной']\n",
            "Hole 281: ['подельник', 'напарник', 'напарница', 'куратор', 'преподаватель', 'ученица', 'воспитанница', 'фрейлина', 'герцогиня', 'герцог', 'канцлер', 'генерал', 'комиссар', 'следователь', 'полиция', 'милиция', 'мент', 'бандит']\n",
            "Hole 384: ['бездельничать', 'развлекаться', 'веселиться', 'дурачиться', 'поддразнивать', 'ревновать', 'ревность', 'обида', 'горечь', 'тоска', 'скука', 'безделье']\n",
            "Hole 389: ['телохранитель', 'гвардеец', 'оруженосец', 'рыцарь', 'воин', 'орк', 'вожак', 'волк', 'волчонок', 'котенок', 'малыш', 'сестренка', 'дочурка', 'внучка', 'племянница', 'баронесса', 'цесаревна', 'михайлович', 'генерал', 'майор', 'комиссар', 'инспектор', 'охранник', 'констебль']\n",
            "Hole 403: ['резиденция', 'герцогство', 'вассал', 'сенешаль', 'мажордом', 'домоправительница', 'сиделка', 'санитарка', 'ординаторская', 'кабинет', 'апартамент']\n",
            "Hole 405: ['проучивать', 'поиздеваться', 'поразвлечься', 'повеселиться', 'потанцевать', 'станцевать', 'танец', 'вальс', 'ария', 'сопрано', 'фальцет', 'гнусавый', 'елейный', 'заискивающий', 'насмешливый', 'укоризненный', 'возмущенный', 'возмущать', 'оскорблять', 'оскорбляться', 'вспылить', 'накричать', 'наорать', 'вызвериться']\n",
            "Hole 416: ['пожалуйста', 'милая', 'деточка', 'тетя', 'тетушка', 'баронесса', 'дебютантка', 'танцовщица', 'танцор', 'протанцевать', 'станцевать', 'потанцевать', 'повеселиться', 'погулять', 'посидеть', 'полчасика', 'минуточка', 'минутка']\n",
            "Hole 417: ['прекращать', 'продолжать', 'начинать', 'переставать', 'разучиваться', 'научаться', 'учить', 'воспитывать', 'опекать', 'третировать', 'грубить', 'злить', 'провоцировать', 'спровоцировать', 'вмешиваться', 'ввязываться']\n",
            "Hole 429: ['ровесник', 'сверстник', 'одноклассник', 'универ', 'каникулы', 'выходной', 'сегодня', 'завтрашний', 'следующий', 'пара', 'пятнадцать', 'девятнадцать']\n",
            "Hole 434: ['уламывать', 'уговаривать', 'урезонивать', 'проучивать', 'вспылить', 'огрызаться', 'прикрикивать', 'приказывать', 'приказание', 'поручение', 'обязанность', 'обязательство', 'долг', 'должок', 'деньги', 'платить', 'переплачивать', 'поторговаться', 'договариваться']\n",
            "Hole 443: ['оборотень', 'перевертыш', 'полукровка', 'эльф', 'чародейка', 'маг', 'колдун', 'демон', 'нежить', 'упырь', 'вурдалак', 'хвостатый', 'клыкастый', 'оскаливаться', 'ухмыляться', 'хохотнуть', 'захихикать', 'хихикать', 'смеяться', 'дурачиться', 'кривляться', 'корчить', 'скорчить', 'рожица', 'мордашка', 'блондиночка', 'девчушка', 'девочка', 'малыш', 'котенок', 'зверек', 'детеныш', 'волчица']\n",
            "Hole 445: ['умалчивать', 'утаивать', 'выбалтывать', 'выведывать', 'вызнавать', 'пронюхивать', 'подсылать', 'натравлять', 'психованный', 'безмозглый', 'самовлюбленный', 'высокомерный', 'снисходительный', 'шутливый', 'двусмысленность', 'завуалировать', 'расценивать', 'разъяснять', 'истолковывать']\n",
            "Hole 458: ['приказывать', 'прикрикивать', 'рявкнуть', 'сдуреть', 'возмущенно', 'ехидно', 'язвительный', 'колкость', 'реплика', 'комментарий', 'пояснение', 'указание', 'приказание']\n",
            "Hole 463: ['полиция', 'милиция', 'мент', 'бандит', 'отморозок', 'лох', 'говнюк', 'засранец', 'стерва', 'бабник', 'ловелас', 'хлыщ', 'аристократка', 'особа', 'леди', 'баронесса', 'цесаревна', 'михайлович', 'генерал', 'майор', 'комиссар', 'полицейский', 'инспектор']\n",
            "Hole 474: ['подлянка', 'выволочка', 'нагоняй', 'выговор', 'замечание', 'колкость', 'язвительный', 'ехидно', 'недовольно', 'нервно', 'непроизвольно', 'инстинктивно', 'интуитивно', 'подсознательно', 'подвох']\n",
            "Hole 476: ['подзывать', 'поманить', 'погрозить', 'показывать', 'продемонстрировать', 'демонстрировать', 'выказывать', 'искренний', 'растрогать', 'взволновать', 'встревожиться', 'засуетиться', 'всполошиться']\n",
            "Hole 484: ['доводиться', 'нечасто', 'частенько', 'подолгу', 'допоздна', 'бездельничать', 'безделье', 'скука', 'хандра', 'депрессия', 'беспамятство', 'сон', 'наяву', 'впервые', 'воочию']\n",
            "Hole 487: ['облик', 'обличие', 'личина', 'морок', 'чары', 'магия', 'маг', 'адепт', 'первокурсник', 'старшеклассник', 'футболист', 'мачо', 'типаж', 'внешность']\n",
            "Hole 492: ['оцепенение', 'задумчивость', 'раздумье', 'молчание', 'пауза', 'заминка', 'замешательство', 'недоумение', 'неодобрение', 'пренебрежение', 'хамство', 'самовлюбленный', 'зазнайка', 'недоучка', 'маг', 'магия', 'чары', 'наваждение', 'морок']\n",
            "Hole 499: ['волшебство', 'колдовство', 'колдун', 'святоша', 'предатель', 'подлый', 'паскудный', 'скверный', 'плохой', 'хороший', 'замечательный', 'чудесный', 'волшебный']\n",
            "\n",
            "Cluster 0:\n",
            "********************\n",
            "Hole 243: ['протрезветь', 'оклематься', 'подлечивать', 'залечивать', 'бередить', 'разъедать', 'пропитываться', 'обонять', 'пьянящий', 'пьянить', 'опьянеть']\n",
            "Hole 475: ['утроенный', 'помериться', 'померяться', 'выстаивать', 'продержаться', 'продержать', 'просиживать', 'сидеть', 'примащиваться', 'угнездиться', 'вдавливаться', 'задеревенеть', 'подпитать', 'перенапрягать']\n"
          ]
        }
      ]
    },
    {
      "cell_type": "code",
      "source": [
        "words_on_contour(filtered_by_hole_diam)"
      ],
      "metadata": {
        "colab": {
          "base_uri": "https://localhost:8080/"
        },
        "id": "ngbO1FxH-oT2",
        "outputId": "83f876b4-ef1c-4ec1-a5c9-e3febda38cd9"
      },
      "id": "ngbO1FxH-oT2",
      "execution_count": null,
      "outputs": [
        {
          "output_type": "stream",
          "name": "stdout",
          "text": [
            "\n",
            "Cluster 3:\n",
            "********************\n",
            "Hole 21: ['директор', 'викторович', 'здравствовать', 'широкодонный', 'кочедыжник', 'добор', 'вальцовочный']\n",
            "Hole 231: ['присутствующий', 'присутствовать', 'состояться', 'обручение', 'обручать', 'незаконнорожденный', 'чистокровный', 'необученный', 'семеро', 'четверо', 'остальной']\n",
            "Hole 281: ['подельник', 'напарник', 'напарница', 'куратор', 'преподаватель', 'ученица', 'воспитанница', 'фрейлина', 'герцогиня', 'герцог', 'канцлер', 'генерал', 'комиссар', 'следователь', 'полиция', 'милиция', 'мент', 'бандит']\n",
            "Hole 384: ['бездельничать', 'развлекаться', 'веселиться', 'дурачиться', 'поддразнивать', 'ревновать', 'ревность', 'обида', 'горечь', 'тоска', 'скука', 'безделье']\n",
            "Hole 389: ['телохранитель', 'гвардеец', 'оруженосец', 'рыцарь', 'воин', 'орк', 'вожак', 'волк', 'волчонок', 'котенок', 'малыш', 'сестренка', 'дочурка', 'внучка', 'племянница', 'баронесса', 'цесаревна', 'михайлович', 'генерал', 'майор', 'комиссар', 'инспектор', 'охранник', 'констебль']\n",
            "Hole 403: ['резиденция', 'герцогство', 'вассал', 'сенешаль', 'мажордом', 'домоправительница', 'сиделка', 'санитарка', 'ординаторская', 'кабинет', 'апартамент']\n",
            "Hole 405: ['проучивать', 'поиздеваться', 'поразвлечься', 'повеселиться', 'потанцевать', 'станцевать', 'танец', 'вальс', 'ария', 'сопрано', 'фальцет', 'гнусавый', 'елейный', 'заискивающий', 'насмешливый', 'укоризненный', 'возмущенный', 'возмущать', 'оскорблять', 'оскорбляться', 'вспылить', 'накричать', 'наорать', 'вызвериться']\n",
            "Hole 416: ['пожалуйста', 'милая', 'деточка', 'тетя', 'тетушка', 'баронесса', 'дебютантка', 'танцовщица', 'танцор', 'протанцевать', 'станцевать', 'потанцевать', 'повеселиться', 'погулять', 'посидеть', 'полчасика', 'минуточка', 'минутка']\n",
            "Hole 417: ['прекращать', 'продолжать', 'начинать', 'переставать', 'разучиваться', 'научаться', 'учить', 'воспитывать', 'опекать', 'третировать', 'грубить', 'злить', 'провоцировать', 'спровоцировать', 'вмешиваться', 'ввязываться']\n",
            "Hole 429: ['ровесник', 'сверстник', 'одноклассник', 'универ', 'каникулы', 'выходной', 'сегодня', 'завтрашний', 'следующий', 'пара', 'пятнадцать', 'девятнадцать']\n",
            "Hole 434: ['уламывать', 'уговаривать', 'урезонивать', 'проучивать', 'вспылить', 'огрызаться', 'прикрикивать', 'приказывать', 'приказание', 'поручение', 'обязанность', 'обязательство', 'долг', 'должок', 'деньги', 'платить', 'переплачивать', 'поторговаться', 'договариваться']\n",
            "Hole 443: ['оборотень', 'перевертыш', 'полукровка', 'эльф', 'чародейка', 'маг', 'колдун', 'демон', 'нежить', 'упырь', 'вурдалак', 'хвостатый', 'клыкастый', 'оскаливаться', 'ухмыляться', 'хохотнуть', 'захихикать', 'хихикать', 'смеяться', 'дурачиться', 'кривляться', 'корчить', 'скорчить', 'рожица', 'мордашка', 'блондиночка', 'девчушка', 'девочка', 'малыш', 'котенок', 'зверек', 'детеныш', 'волчица']\n",
            "Hole 445: ['умалчивать', 'утаивать', 'выбалтывать', 'выведывать', 'вызнавать', 'пронюхивать', 'подсылать', 'натравлять', 'психованный', 'безмозглый', 'самовлюбленный', 'высокомерный', 'снисходительный', 'шутливый', 'двусмысленность', 'завуалировать', 'расценивать', 'разъяснять', 'истолковывать']\n",
            "Hole 458: ['приказывать', 'прикрикивать', 'рявкнуть', 'сдуреть', 'возмущенно', 'ехидно', 'язвительный', 'колкость', 'реплика', 'комментарий', 'пояснение', 'указание', 'приказание']\n",
            "Hole 463: ['полиция', 'милиция', 'мент', 'бандит', 'отморозок', 'лох', 'говнюк', 'засранец', 'стерва', 'бабник', 'ловелас', 'хлыщ', 'аристократка', 'особа', 'леди', 'баронесса', 'цесаревна', 'михайлович', 'генерал', 'майор', 'комиссар', 'полицейский', 'инспектор']\n",
            "Hole 474: ['подлянка', 'выволочка', 'нагоняй', 'выговор', 'замечание', 'колкость', 'язвительный', 'ехидно', 'недовольно', 'нервно', 'непроизвольно', 'инстинктивно', 'интуитивно', 'подсознательно', 'подвох']\n",
            "Hole 476: ['подзывать', 'поманить', 'погрозить', 'показывать', 'продемонстрировать', 'демонстрировать', 'выказывать', 'искренний', 'растрогать', 'взволновать', 'встревожиться', 'засуетиться', 'всполошиться']\n",
            "Hole 484: ['доводиться', 'нечасто', 'частенько', 'подолгу', 'допоздна', 'бездельничать', 'безделье', 'скука', 'хандра', 'депрессия', 'беспамятство', 'сон', 'наяву', 'впервые', 'воочию']\n",
            "Hole 487: ['облик', 'обличие', 'личина', 'морок', 'чары', 'магия', 'маг', 'адепт', 'первокурсник', 'старшеклассник', 'футболист', 'мачо', 'типаж', 'внешность']\n",
            "Hole 492: ['оцепенение', 'задумчивость', 'раздумье', 'молчание', 'пауза', 'заминка', 'замешательство', 'недоумение', 'неодобрение', 'пренебрежение', 'хамство', 'самовлюбленный', 'зазнайка', 'недоучка', 'маг', 'магия', 'чары', 'наваждение', 'морок']\n",
            "Hole 499: ['волшебство', 'колдовство', 'колдун', 'святоша', 'предатель', 'подлый', 'паскудный', 'скверный', 'плохой', 'хороший', 'замечательный', 'чудесный', 'волшебный']\n",
            "\n",
            "Cluster 0:\n",
            "********************\n",
            "Hole 243: ['протрезветь', 'оклематься', 'подлечивать', 'залечивать', 'бередить', 'разъедать', 'пропитываться', 'обонять', 'пьянящий', 'пьянить', 'опьянеть']\n"
          ]
        }
      ]
    }
  ],
  "metadata": {
    "colab": {
      "provenance": []
    },
    "kernelspec": {
      "display_name": "Python 3 (ipykernel)",
      "language": "python",
      "name": "python3"
    },
    "language_info": {
      "codemirror_mode": {
        "name": "ipython",
        "version": 3
      },
      "file_extension": ".py",
      "mimetype": "text/x-python",
      "name": "python",
      "nbconvert_exporter": "python",
      "pygments_lexer": "ipython3",
      "version": "3.9.9"
    },
    "widgets": {
      "application/vnd.jupyter.widget-state+json": {
        "362331cb6a1e4dbeaeda8d8609549d45": {
          "model_module": "@jupyter-widgets/controls",
          "model_name": "HBoxModel",
          "model_module_version": "1.5.0",
          "state": {
            "_dom_classes": [],
            "_model_module": "@jupyter-widgets/controls",
            "_model_module_version": "1.5.0",
            "_model_name": "HBoxModel",
            "_view_count": null,
            "_view_module": "@jupyter-widgets/controls",
            "_view_module_version": "1.5.0",
            "_view_name": "HBoxView",
            "box_style": "",
            "children": [
              "IPY_MODEL_047d4496257949efba1a10077184f92c",
              "IPY_MODEL_dfe9beccc2674e64be5ba05faa934ce1",
              "IPY_MODEL_4bb9e81d8f8447d8909dd916bd94e725"
            ],
            "layout": "IPY_MODEL_be1f3eaffc0c4f7a81de41e11a9eed5d"
          }
        },
        "047d4496257949efba1a10077184f92c": {
          "model_module": "@jupyter-widgets/controls",
          "model_name": "HTMLModel",
          "model_module_version": "1.5.0",
          "state": {
            "_dom_classes": [],
            "_model_module": "@jupyter-widgets/controls",
            "_model_module_version": "1.5.0",
            "_model_name": "HTMLModel",
            "_view_count": null,
            "_view_module": "@jupyter-widgets/controls",
            "_view_module_version": "1.5.0",
            "_view_name": "HTMLView",
            "description": "",
            "description_tooltip": null,
            "layout": "IPY_MODEL_f07504498fab47ebba896a7a9dedae88",
            "placeholder": "​",
            "style": "IPY_MODEL_da67bd2ecbe34524937f6bacc93fb178",
            "value": "100%"
          }
        },
        "dfe9beccc2674e64be5ba05faa934ce1": {
          "model_module": "@jupyter-widgets/controls",
          "model_name": "FloatProgressModel",
          "model_module_version": "1.5.0",
          "state": {
            "_dom_classes": [],
            "_model_module": "@jupyter-widgets/controls",
            "_model_module_version": "1.5.0",
            "_model_name": "FloatProgressModel",
            "_view_count": null,
            "_view_module": "@jupyter-widgets/controls",
            "_view_module_version": "1.5.0",
            "_view_name": "ProgressView",
            "bar_style": "success",
            "description": "",
            "description_tooltip": null,
            "layout": "IPY_MODEL_cf7cb3e439654a3e95fa565b8a4d2107",
            "max": 5,
            "min": 0,
            "orientation": "horizontal",
            "style": "IPY_MODEL_c53bae96bb8844d6a4b5891cd430778c",
            "value": 5
          }
        },
        "4bb9e81d8f8447d8909dd916bd94e725": {
          "model_module": "@jupyter-widgets/controls",
          "model_name": "HTMLModel",
          "model_module_version": "1.5.0",
          "state": {
            "_dom_classes": [],
            "_model_module": "@jupyter-widgets/controls",
            "_model_module_version": "1.5.0",
            "_model_name": "HTMLModel",
            "_view_count": null,
            "_view_module": "@jupyter-widgets/controls",
            "_view_module_version": "1.5.0",
            "_view_name": "HTMLView",
            "description": "",
            "description_tooltip": null,
            "layout": "IPY_MODEL_befcbabfa4ba4adfb74e9f0e6de6fb1d",
            "placeholder": "​",
            "style": "IPY_MODEL_fcb620e792d542ab9992f76dde92e27a",
            "value": " 5/5 [00:52&lt;00:00, 13.01s/it]"
          }
        },
        "be1f3eaffc0c4f7a81de41e11a9eed5d": {
          "model_module": "@jupyter-widgets/base",
          "model_name": "LayoutModel",
          "model_module_version": "1.2.0",
          "state": {
            "_model_module": "@jupyter-widgets/base",
            "_model_module_version": "1.2.0",
            "_model_name": "LayoutModel",
            "_view_count": null,
            "_view_module": "@jupyter-widgets/base",
            "_view_module_version": "1.2.0",
            "_view_name": "LayoutView",
            "align_content": null,
            "align_items": null,
            "align_self": null,
            "border": null,
            "bottom": null,
            "display": null,
            "flex": null,
            "flex_flow": null,
            "grid_area": null,
            "grid_auto_columns": null,
            "grid_auto_flow": null,
            "grid_auto_rows": null,
            "grid_column": null,
            "grid_gap": null,
            "grid_row": null,
            "grid_template_areas": null,
            "grid_template_columns": null,
            "grid_template_rows": null,
            "height": null,
            "justify_content": null,
            "justify_items": null,
            "left": null,
            "margin": null,
            "max_height": null,
            "max_width": null,
            "min_height": null,
            "min_width": null,
            "object_fit": null,
            "object_position": null,
            "order": null,
            "overflow": null,
            "overflow_x": null,
            "overflow_y": null,
            "padding": null,
            "right": null,
            "top": null,
            "visibility": null,
            "width": null
          }
        },
        "f07504498fab47ebba896a7a9dedae88": {
          "model_module": "@jupyter-widgets/base",
          "model_name": "LayoutModel",
          "model_module_version": "1.2.0",
          "state": {
            "_model_module": "@jupyter-widgets/base",
            "_model_module_version": "1.2.0",
            "_model_name": "LayoutModel",
            "_view_count": null,
            "_view_module": "@jupyter-widgets/base",
            "_view_module_version": "1.2.0",
            "_view_name": "LayoutView",
            "align_content": null,
            "align_items": null,
            "align_self": null,
            "border": null,
            "bottom": null,
            "display": null,
            "flex": null,
            "flex_flow": null,
            "grid_area": null,
            "grid_auto_columns": null,
            "grid_auto_flow": null,
            "grid_auto_rows": null,
            "grid_column": null,
            "grid_gap": null,
            "grid_row": null,
            "grid_template_areas": null,
            "grid_template_columns": null,
            "grid_template_rows": null,
            "height": null,
            "justify_content": null,
            "justify_items": null,
            "left": null,
            "margin": null,
            "max_height": null,
            "max_width": null,
            "min_height": null,
            "min_width": null,
            "object_fit": null,
            "object_position": null,
            "order": null,
            "overflow": null,
            "overflow_x": null,
            "overflow_y": null,
            "padding": null,
            "right": null,
            "top": null,
            "visibility": null,
            "width": null
          }
        },
        "da67bd2ecbe34524937f6bacc93fb178": {
          "model_module": "@jupyter-widgets/controls",
          "model_name": "DescriptionStyleModel",
          "model_module_version": "1.5.0",
          "state": {
            "_model_module": "@jupyter-widgets/controls",
            "_model_module_version": "1.5.0",
            "_model_name": "DescriptionStyleModel",
            "_view_count": null,
            "_view_module": "@jupyter-widgets/base",
            "_view_module_version": "1.2.0",
            "_view_name": "StyleView",
            "description_width": ""
          }
        },
        "cf7cb3e439654a3e95fa565b8a4d2107": {
          "model_module": "@jupyter-widgets/base",
          "model_name": "LayoutModel",
          "model_module_version": "1.2.0",
          "state": {
            "_model_module": "@jupyter-widgets/base",
            "_model_module_version": "1.2.0",
            "_model_name": "LayoutModel",
            "_view_count": null,
            "_view_module": "@jupyter-widgets/base",
            "_view_module_version": "1.2.0",
            "_view_name": "LayoutView",
            "align_content": null,
            "align_items": null,
            "align_self": null,
            "border": null,
            "bottom": null,
            "display": null,
            "flex": null,
            "flex_flow": null,
            "grid_area": null,
            "grid_auto_columns": null,
            "grid_auto_flow": null,
            "grid_auto_rows": null,
            "grid_column": null,
            "grid_gap": null,
            "grid_row": null,
            "grid_template_areas": null,
            "grid_template_columns": null,
            "grid_template_rows": null,
            "height": null,
            "justify_content": null,
            "justify_items": null,
            "left": null,
            "margin": null,
            "max_height": null,
            "max_width": null,
            "min_height": null,
            "min_width": null,
            "object_fit": null,
            "object_position": null,
            "order": null,
            "overflow": null,
            "overflow_x": null,
            "overflow_y": null,
            "padding": null,
            "right": null,
            "top": null,
            "visibility": null,
            "width": null
          }
        },
        "c53bae96bb8844d6a4b5891cd430778c": {
          "model_module": "@jupyter-widgets/controls",
          "model_name": "ProgressStyleModel",
          "model_module_version": "1.5.0",
          "state": {
            "_model_module": "@jupyter-widgets/controls",
            "_model_module_version": "1.5.0",
            "_model_name": "ProgressStyleModel",
            "_view_count": null,
            "_view_module": "@jupyter-widgets/base",
            "_view_module_version": "1.2.0",
            "_view_name": "StyleView",
            "bar_color": null,
            "description_width": ""
          }
        },
        "befcbabfa4ba4adfb74e9f0e6de6fb1d": {
          "model_module": "@jupyter-widgets/base",
          "model_name": "LayoutModel",
          "model_module_version": "1.2.0",
          "state": {
            "_model_module": "@jupyter-widgets/base",
            "_model_module_version": "1.2.0",
            "_model_name": "LayoutModel",
            "_view_count": null,
            "_view_module": "@jupyter-widgets/base",
            "_view_module_version": "1.2.0",
            "_view_name": "LayoutView",
            "align_content": null,
            "align_items": null,
            "align_self": null,
            "border": null,
            "bottom": null,
            "display": null,
            "flex": null,
            "flex_flow": null,
            "grid_area": null,
            "grid_auto_columns": null,
            "grid_auto_flow": null,
            "grid_auto_rows": null,
            "grid_column": null,
            "grid_gap": null,
            "grid_row": null,
            "grid_template_areas": null,
            "grid_template_columns": null,
            "grid_template_rows": null,
            "height": null,
            "justify_content": null,
            "justify_items": null,
            "left": null,
            "margin": null,
            "max_height": null,
            "max_width": null,
            "min_height": null,
            "min_width": null,
            "object_fit": null,
            "object_position": null,
            "order": null,
            "overflow": null,
            "overflow_x": null,
            "overflow_y": null,
            "padding": null,
            "right": null,
            "top": null,
            "visibility": null,
            "width": null
          }
        },
        "fcb620e792d542ab9992f76dde92e27a": {
          "model_module": "@jupyter-widgets/controls",
          "model_name": "DescriptionStyleModel",
          "model_module_version": "1.5.0",
          "state": {
            "_model_module": "@jupyter-widgets/controls",
            "_model_module_version": "1.5.0",
            "_model_name": "DescriptionStyleModel",
            "_view_count": null,
            "_view_module": "@jupyter-widgets/base",
            "_view_module_version": "1.2.0",
            "_view_name": "StyleView",
            "description_width": ""
          }
        },
        "88046d08b86a4d498b5d265d2748f0b6": {
          "model_module": "@jupyter-widgets/controls",
          "model_name": "HBoxModel",
          "model_module_version": "1.5.0",
          "state": {
            "_dom_classes": [],
            "_model_module": "@jupyter-widgets/controls",
            "_model_module_version": "1.5.0",
            "_model_name": "HBoxModel",
            "_view_count": null,
            "_view_module": "@jupyter-widgets/controls",
            "_view_module_version": "1.5.0",
            "_view_name": "HBoxView",
            "box_style": "",
            "children": [
              "IPY_MODEL_5b4e0510b43d4d298051abbfd042d306",
              "IPY_MODEL_6e827c442052470181de44188c532b77",
              "IPY_MODEL_f8ee2573aadc42ef8e4e09d6f1a79231"
            ],
            "layout": "IPY_MODEL_3bd4866f497340899e356aedee8cdfd2"
          }
        },
        "5b4e0510b43d4d298051abbfd042d306": {
          "model_module": "@jupyter-widgets/controls",
          "model_name": "HTMLModel",
          "model_module_version": "1.5.0",
          "state": {
            "_dom_classes": [],
            "_model_module": "@jupyter-widgets/controls",
            "_model_module_version": "1.5.0",
            "_model_name": "HTMLModel",
            "_view_count": null,
            "_view_module": "@jupyter-widgets/controls",
            "_view_module_version": "1.5.0",
            "_view_name": "HTMLView",
            "description": "",
            "description_tooltip": null,
            "layout": "IPY_MODEL_95cc7ddf4fc84c31b33d85d031846347",
            "placeholder": "​",
            "style": "IPY_MODEL_8017842651644b998fbb3da782dacc5c",
            "value": "100%"
          }
        },
        "6e827c442052470181de44188c532b77": {
          "model_module": "@jupyter-widgets/controls",
          "model_name": "FloatProgressModel",
          "model_module_version": "1.5.0",
          "state": {
            "_dom_classes": [],
            "_model_module": "@jupyter-widgets/controls",
            "_model_module_version": "1.5.0",
            "_model_name": "FloatProgressModel",
            "_view_count": null,
            "_view_module": "@jupyter-widgets/controls",
            "_view_module_version": "1.5.0",
            "_view_name": "ProgressView",
            "bar_style": "success",
            "description": "",
            "description_tooltip": null,
            "layout": "IPY_MODEL_4630ca8bf39248219a0d87af09904cf5",
            "max": 10,
            "min": 0,
            "orientation": "horizontal",
            "style": "IPY_MODEL_c79ca7a99f294646a88817758b4daf8b",
            "value": 10
          }
        },
        "f8ee2573aadc42ef8e4e09d6f1a79231": {
          "model_module": "@jupyter-widgets/controls",
          "model_name": "HTMLModel",
          "model_module_version": "1.5.0",
          "state": {
            "_dom_classes": [],
            "_model_module": "@jupyter-widgets/controls",
            "_model_module_version": "1.5.0",
            "_model_name": "HTMLModel",
            "_view_count": null,
            "_view_module": "@jupyter-widgets/controls",
            "_view_module_version": "1.5.0",
            "_view_name": "HTMLView",
            "description": "",
            "description_tooltip": null,
            "layout": "IPY_MODEL_73260d0da12b4239a09781ff43a79c83",
            "placeholder": "​",
            "style": "IPY_MODEL_bc8dd17ab11f4ed7889366e3e18b2813",
            "value": " 10/10 [00:28&lt;00:00,  2.74s/it]"
          }
        },
        "3bd4866f497340899e356aedee8cdfd2": {
          "model_module": "@jupyter-widgets/base",
          "model_name": "LayoutModel",
          "model_module_version": "1.2.0",
          "state": {
            "_model_module": "@jupyter-widgets/base",
            "_model_module_version": "1.2.0",
            "_model_name": "LayoutModel",
            "_view_count": null,
            "_view_module": "@jupyter-widgets/base",
            "_view_module_version": "1.2.0",
            "_view_name": "LayoutView",
            "align_content": null,
            "align_items": null,
            "align_self": null,
            "border": null,
            "bottom": null,
            "display": null,
            "flex": null,
            "flex_flow": null,
            "grid_area": null,
            "grid_auto_columns": null,
            "grid_auto_flow": null,
            "grid_auto_rows": null,
            "grid_column": null,
            "grid_gap": null,
            "grid_row": null,
            "grid_template_areas": null,
            "grid_template_columns": null,
            "grid_template_rows": null,
            "height": null,
            "justify_content": null,
            "justify_items": null,
            "left": null,
            "margin": null,
            "max_height": null,
            "max_width": null,
            "min_height": null,
            "min_width": null,
            "object_fit": null,
            "object_position": null,
            "order": null,
            "overflow": null,
            "overflow_x": null,
            "overflow_y": null,
            "padding": null,
            "right": null,
            "top": null,
            "visibility": null,
            "width": null
          }
        },
        "95cc7ddf4fc84c31b33d85d031846347": {
          "model_module": "@jupyter-widgets/base",
          "model_name": "LayoutModel",
          "model_module_version": "1.2.0",
          "state": {
            "_model_module": "@jupyter-widgets/base",
            "_model_module_version": "1.2.0",
            "_model_name": "LayoutModel",
            "_view_count": null,
            "_view_module": "@jupyter-widgets/base",
            "_view_module_version": "1.2.0",
            "_view_name": "LayoutView",
            "align_content": null,
            "align_items": null,
            "align_self": null,
            "border": null,
            "bottom": null,
            "display": null,
            "flex": null,
            "flex_flow": null,
            "grid_area": null,
            "grid_auto_columns": null,
            "grid_auto_flow": null,
            "grid_auto_rows": null,
            "grid_column": null,
            "grid_gap": null,
            "grid_row": null,
            "grid_template_areas": null,
            "grid_template_columns": null,
            "grid_template_rows": null,
            "height": null,
            "justify_content": null,
            "justify_items": null,
            "left": null,
            "margin": null,
            "max_height": null,
            "max_width": null,
            "min_height": null,
            "min_width": null,
            "object_fit": null,
            "object_position": null,
            "order": null,
            "overflow": null,
            "overflow_x": null,
            "overflow_y": null,
            "padding": null,
            "right": null,
            "top": null,
            "visibility": null,
            "width": null
          }
        },
        "8017842651644b998fbb3da782dacc5c": {
          "model_module": "@jupyter-widgets/controls",
          "model_name": "DescriptionStyleModel",
          "model_module_version": "1.5.0",
          "state": {
            "_model_module": "@jupyter-widgets/controls",
            "_model_module_version": "1.5.0",
            "_model_name": "DescriptionStyleModel",
            "_view_count": null,
            "_view_module": "@jupyter-widgets/base",
            "_view_module_version": "1.2.0",
            "_view_name": "StyleView",
            "description_width": ""
          }
        },
        "4630ca8bf39248219a0d87af09904cf5": {
          "model_module": "@jupyter-widgets/base",
          "model_name": "LayoutModel",
          "model_module_version": "1.2.0",
          "state": {
            "_model_module": "@jupyter-widgets/base",
            "_model_module_version": "1.2.0",
            "_model_name": "LayoutModel",
            "_view_count": null,
            "_view_module": "@jupyter-widgets/base",
            "_view_module_version": "1.2.0",
            "_view_name": "LayoutView",
            "align_content": null,
            "align_items": null,
            "align_self": null,
            "border": null,
            "bottom": null,
            "display": null,
            "flex": null,
            "flex_flow": null,
            "grid_area": null,
            "grid_auto_columns": null,
            "grid_auto_flow": null,
            "grid_auto_rows": null,
            "grid_column": null,
            "grid_gap": null,
            "grid_row": null,
            "grid_template_areas": null,
            "grid_template_columns": null,
            "grid_template_rows": null,
            "height": null,
            "justify_content": null,
            "justify_items": null,
            "left": null,
            "margin": null,
            "max_height": null,
            "max_width": null,
            "min_height": null,
            "min_width": null,
            "object_fit": null,
            "object_position": null,
            "order": null,
            "overflow": null,
            "overflow_x": null,
            "overflow_y": null,
            "padding": null,
            "right": null,
            "top": null,
            "visibility": null,
            "width": null
          }
        },
        "c79ca7a99f294646a88817758b4daf8b": {
          "model_module": "@jupyter-widgets/controls",
          "model_name": "ProgressStyleModel",
          "model_module_version": "1.5.0",
          "state": {
            "_model_module": "@jupyter-widgets/controls",
            "_model_module_version": "1.5.0",
            "_model_name": "ProgressStyleModel",
            "_view_count": null,
            "_view_module": "@jupyter-widgets/base",
            "_view_module_version": "1.2.0",
            "_view_name": "StyleView",
            "bar_color": null,
            "description_width": ""
          }
        },
        "73260d0da12b4239a09781ff43a79c83": {
          "model_module": "@jupyter-widgets/base",
          "model_name": "LayoutModel",
          "model_module_version": "1.2.0",
          "state": {
            "_model_module": "@jupyter-widgets/base",
            "_model_module_version": "1.2.0",
            "_model_name": "LayoutModel",
            "_view_count": null,
            "_view_module": "@jupyter-widgets/base",
            "_view_module_version": "1.2.0",
            "_view_name": "LayoutView",
            "align_content": null,
            "align_items": null,
            "align_self": null,
            "border": null,
            "bottom": null,
            "display": null,
            "flex": null,
            "flex_flow": null,
            "grid_area": null,
            "grid_auto_columns": null,
            "grid_auto_flow": null,
            "grid_auto_rows": null,
            "grid_column": null,
            "grid_gap": null,
            "grid_row": null,
            "grid_template_areas": null,
            "grid_template_columns": null,
            "grid_template_rows": null,
            "height": null,
            "justify_content": null,
            "justify_items": null,
            "left": null,
            "margin": null,
            "max_height": null,
            "max_width": null,
            "min_height": null,
            "min_width": null,
            "object_fit": null,
            "object_position": null,
            "order": null,
            "overflow": null,
            "overflow_x": null,
            "overflow_y": null,
            "padding": null,
            "right": null,
            "top": null,
            "visibility": null,
            "width": null
          }
        },
        "bc8dd17ab11f4ed7889366e3e18b2813": {
          "model_module": "@jupyter-widgets/controls",
          "model_name": "DescriptionStyleModel",
          "model_module_version": "1.5.0",
          "state": {
            "_model_module": "@jupyter-widgets/controls",
            "_model_module_version": "1.5.0",
            "_model_name": "DescriptionStyleModel",
            "_view_count": null,
            "_view_module": "@jupyter-widgets/base",
            "_view_module_version": "1.2.0",
            "_view_name": "StyleView",
            "description_width": ""
          }
        }
      }
    }
  },
  "nbformat": 4,
  "nbformat_minor": 5
}