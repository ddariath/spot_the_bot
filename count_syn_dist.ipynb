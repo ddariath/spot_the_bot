{
  "cells": [
    {
      "cell_type": "code",
      "execution_count": null,
      "id": "1478a18d",
      "metadata": {
        "id": "1478a18d"
      },
      "outputs": [],
      "source": [
        "import numpy as np\n",
        "import matplotlib.pyplot as plt\n",
        "import seaborn as sns"
      ]
    },
    {
      "cell_type": "code",
      "execution_count": null,
      "id": "5eec5e41",
      "metadata": {
        "id": "5eec5e41"
      },
      "outputs": [],
      "source": [
        "ru_synonym_dictionary = np.load('ru_syn_dict_in_wv.npy', allow_pickle=True).item()"
      ]
    },
    {
      "cell_type": "code",
      "execution_count": null,
      "id": "27363d60",
      "metadata": {
        "colab": {
          "base_uri": "https://localhost:8080/"
        },
        "id": "27363d60",
        "outputId": "69a20477-9f1d-48b9-de9b-2240297f2599"
      },
      "outputs": [
        {
          "output_type": "execute_result",
          "data": {
            "text/plain": [
              "['месяц', 'полумесяц']"
            ]
          },
          "metadata": {},
          "execution_count": 3
        }
      ],
      "source": [
        "ru_synonym_dictionary['ЛУНА']"
      ]
    },
    {
      "cell_type": "code",
      "execution_count": null,
      "id": "764815ba",
      "metadata": {
        "colab": {
          "base_uri": "https://localhost:8080/"
        },
        "id": "764815ba",
        "outputId": "07aee460-bc0b-4d53-ffde-4f003056608b"
      },
      "outputs": [
        {
          "output_type": "execute_result",
          "data": {
            "text/plain": [
              "[('ЛУНА', ['месяц', 'полумесяц']),\n",
              " ('НЕБО', ['небосвод', 'небосклон']),\n",
              " ('ПОДНЕБЕСЬЕ', ['высота', 'вышина', 'высь'])]"
            ]
          },
          "metadata": {},
          "execution_count": 4
        }
      ],
      "source": [
        "list(ru_synonym_dictionary.items())[:3]"
      ]
    },
    {
      "cell_type": "code",
      "source": [
        "synonims = []\n",
        "for key, value in ru_synonym_dictionary.items():\n",
        "  syn_set = []\n",
        "  syn_set.append(key.lower())\n",
        "  syn_set.extend(value)\n",
        "  synonims.append(syn_set)\n"
      ],
      "metadata": {
        "id": "b3cViPER08-h"
      },
      "id": "b3cViPER08-h",
      "execution_count": null,
      "outputs": []
    },
    {
      "cell_type": "code",
      "source": [
        "len(synonims)"
      ],
      "metadata": {
        "colab": {
          "base_uri": "https://localhost:8080/"
        },
        "id": "8edvp9X-1ZmC",
        "outputId": "b0795725-4f94-44eb-f692-260e0ee41078"
      },
      "id": "8edvp9X-1ZmC",
      "execution_count": null,
      "outputs": [
        {
          "output_type": "execute_result",
          "data": {
            "text/plain": [
              "2658"
            ]
          },
          "metadata": {},
          "execution_count": 6
        }
      ]
    },
    {
      "cell_type": "code",
      "source": [
        "synonims[:10]"
      ],
      "metadata": {
        "colab": {
          "base_uri": "https://localhost:8080/"
        },
        "id": "ZSFqUI1l1cgV",
        "outputId": "8190be8a-e872-4077-9b73-7b6c427cd40a"
      },
      "id": "ZSFqUI1l1cgV",
      "execution_count": null,
      "outputs": [
        {
          "output_type": "execute_result",
          "data": {
            "text/plain": [
              "[['луна', 'месяц', 'полумесяц'],\n",
              " ['небо', 'небосвод', 'небосклон'],\n",
              " ['поднебесье', 'высота', 'вышина', 'высь'],\n",
              " ['берег', 'взморье', 'побережье', 'поморье', 'прибрежье', 'брег'],\n",
              " ['болото', 'топь', 'трясина', 'болотина', 'зыбун'],\n",
              " ['долина', 'впадина', 'низина', 'низменность', 'дол'],\n",
              " ['изгиб', 'извив', 'извилина', 'изворот', 'излом', 'излучина'],\n",
              " ['континент', 'материк'],\n",
              " ['луг', 'лужок', 'поляна', 'полянка', 'луговина'],\n",
              " ['почва', 'земля', 'грунт']]"
            ]
          },
          "metadata": {},
          "execution_count": 7
        }
      ]
    },
    {
      "cell_type": "code",
      "source": [
        "ru_cbow_normalized_dict = np.load('ru_cbow_normalized_dict.npy', allow_pickle=True).item()"
      ],
      "metadata": {
        "id": "W5wbU8Hd11et"
      },
      "id": "W5wbU8Hd11et",
      "execution_count": null,
      "outputs": []
    },
    {
      "cell_type": "code",
      "source": [
        "synonims_embs = []\n",
        "for syn_set in synonims:\n",
        "  syn_set_embs = []\n",
        "  for word in syn_set:\n",
        "    emb = ru_cbow_normalized_dict[word]\n",
        "    syn_set_embs.append(emb)\n",
        "  synonims_embs.append(syn_set_embs)"
      ],
      "metadata": {
        "id": "KM0AzVe72ZKt"
      },
      "id": "KM0AzVe72ZKt",
      "execution_count": null,
      "outputs": []
    },
    {
      "cell_type": "code",
      "source": [
        "len(synonims_embs[0])"
      ],
      "metadata": {
        "colab": {
          "base_uri": "https://localhost:8080/"
        },
        "id": "jh0QuuXv3D-d",
        "outputId": "a3922810-3ee4-48d1-ba93-b70763c43797"
      },
      "id": "jh0QuuXv3D-d",
      "execution_count": null,
      "outputs": [
        {
          "output_type": "execute_result",
          "data": {
            "text/plain": [
              "3"
            ]
          },
          "metadata": {},
          "execution_count": 12
        }
      ]
    },
    {
      "cell_type": "code",
      "source": [
        "from scipy.spatial.distance import pdist, squareform\n",
        "from tqdm import tqdm\n",
        "from typing import Dict, Tuple\n",
        "\n",
        "def get_hole_diam_stats(synonym_groups: list, metric: str = 'cosine') -> Tuple[Dict[int, float], Dict[str, float]]:\n",
        "    \"\"\"\n",
        "    Вычисляет диаметры \"дыр\" для каждой группы синонимов и их статистику.\n",
        "\n",
        "    Параметры:\n",
        "    - synonym_groups: список списков эмбеддингов (один подсписок = группа синонимов).\n",
        "    - metric: метрика расстояния ('cosine' или 'euclidean').\n",
        "\n",
        "    Возвращает:\n",
        "    - Tuple[individual_diams, stats], где:\n",
        "        - individual_diams: словарь {индекс_группы: диаметр_дыры},\n",
        "        - stats: словарь {'min': мин. диаметр, 'mean': средний, 'max': макс.}.\n",
        "    \"\"\"\n",
        "    individual_diams = {}\n",
        "    all_diameters = []\n",
        "\n",
        "    for idx, group in enumerate(tqdm(synonym_groups)):\n",
        "        if len(group) < 2:\n",
        "            individual_diams[idx] = 0.0  # или np.nan\n",
        "            continue\n",
        "\n",
        "        embeddings = np.array(group)\n",
        "        pairwise_dist = squareform(pdist(embeddings, metric=metric))\n",
        "        diameter = np.max(pairwise_dist)\n",
        "\n",
        "        individual_diams[idx] = diameter\n",
        "        all_diameters.append(diameter)\n",
        "\n",
        "    # Вычисляем статистику (если есть хотя бы одна дыра)\n",
        "    stats = {\n",
        "        'min': float(np.min(all_diameters)) if all_diameters else 0.0,\n",
        "        'mean': float(np.mean(all_diameters)) if all_diameters else 0.0,\n",
        "        'max': float(np.max(all_diameters)) if all_diameters else 0.0\n",
        "    }\n",
        "\n",
        "    return individual_diams, stats"
      ],
      "metadata": {
        "id": "90GHD3q33O6o"
      },
      "id": "90GHD3q33O6o",
      "execution_count": null,
      "outputs": []
    },
    {
      "cell_type": "code",
      "source": [
        "diameters, stats = get_hole_diam_stats(synonims_embs, metric='cosine')\n",
        "\n",
        "#print(\"Диаметры отдельных дыр:\", diameters)\n",
        "print(\"Статистика:\", stats)"
      ],
      "metadata": {
        "colab": {
          "base_uri": "https://localhost:8080/"
        },
        "id": "kGNwuYi5_O0C",
        "outputId": "c39dc368-6811-4079-dddd-f861a28eeb9e"
      },
      "id": "kGNwuYi5_O0C",
      "execution_count": null,
      "outputs": [
        {
          "output_type": "stream",
          "name": "stderr",
          "text": [
            "100%|██████████| 2658/2658 [00:00<00:00, 39290.00it/s]"
          ]
        },
        {
          "output_type": "stream",
          "name": "stdout",
          "text": [
            "Статистика: {'min': 0.07234445566323378, 'mean': 0.7021189322530147, 'max': 1.3032482338843099}\n"
          ]
        },
        {
          "output_type": "stream",
          "name": "stderr",
          "text": [
            "\n"
          ]
        }
      ]
    }
  ],
  "metadata": {
    "kernelspec": {
      "display_name": "Python 3 (ipykernel)",
      "language": "python",
      "name": "python3"
    },
    "language_info": {
      "codemirror_mode": {
        "name": "ipython",
        "version": 3
      },
      "file_extension": ".py",
      "mimetype": "text/x-python",
      "name": "python",
      "nbconvert_exporter": "python",
      "pygments_lexer": "ipython3",
      "version": "3.9.9"
    },
    "colab": {
      "provenance": []
    }
  },
  "nbformat": 4,
  "nbformat_minor": 5
}